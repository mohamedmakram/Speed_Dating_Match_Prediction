{
  "cells": [
    {
      "cell_type": "markdown",
      "source": [
        "the date is about Whether a first date will lead to a relationship.\n",
        "\n",
        "where there are 192 columns which describe the two partners we need to map these features to predict if there would be a relationship or not\n",
        "\n",
        "but the challenges is that the data has a lot of  missing data and one of them was income column which I think is very important because having a high or low income affect your chance to be in a relationship.\n",
        "the dimension of the data is high so it is difficult to see the correlation between columns or visualize them as a whole  \n",
        "\n",
        "the ideal solution for me is to imput all the columns that have missing values but if the column has less than hlaf of the total values it will affect the model generalization "
      ],
      "metadata": {
        "id": "_sqo8JRq6VIE"
      }
    },
    {
      "cell_type": "code",
      "source": [
        "import pandas as pd\n",
        "import numpy as np"
      ],
      "metadata": {
        "id": "xwuPsFucdDdT"
      },
      "execution_count": 1,
      "outputs": []
    },
    {
      "cell_type": "code",
      "source": [
        "df = pd.read_csv('train.csv')"
      ],
      "metadata": {
        "id": "Dx2EFM3zd5BG"
      },
      "execution_count": 2,
      "outputs": []
    },
    {
      "cell_type": "code",
      "source": [
        "test = pd.read_csv('test.csv')"
      ],
      "metadata": {
        "id": "bk9LENXfXh_g"
      },
      "execution_count": 3,
      "outputs": []
    },
    {
      "cell_type": "code",
      "source": [
        "df.shape"
      ],
      "metadata": {
        "colab": {
          "base_uri": "https://localhost:8080/"
        },
        "id": "xSBf9Zv-YKLe",
        "outputId": "f9ac02d3-296b-48c9-d280-2ecd2339da17"
      },
      "execution_count": 4,
      "outputs": [
        {
          "output_type": "execute_result",
          "data": {
            "text/plain": [
              "(5909, 192)"
            ]
          },
          "metadata": {},
          "execution_count": 4
        }
      ]
    },
    {
      "cell_type": "code",
      "source": [
        "df.columns"
      ],
      "metadata": {
        "colab": {
          "base_uri": "https://localhost:8080/"
        },
        "id": "Q86UkAsDnf94",
        "outputId": "12733d58-e7e6-44ce-ec9d-17e684062d55"
      },
      "execution_count": 5,
      "outputs": [
        {
          "output_type": "execute_result",
          "data": {
            "text/plain": [
              "Index(['gender', 'idg', 'condtn', 'wave', 'round', 'position', 'positin1',\n",
              "       'order', 'partner', 'pid',\n",
              "       ...\n",
              "       'sinc3_3', 'intel3_3', 'fun3_3', 'amb3_3', 'attr5_3', 'sinc5_3',\n",
              "       'intel5_3', 'fun5_3', 'amb5_3', 'id'],\n",
              "      dtype='object', length=192)"
            ]
          },
          "metadata": {},
          "execution_count": 5
        }
      ]
    },
    {
      "cell_type": "code",
      "source": [
        "# shape of dataset\n",
        "df.shape"
      ],
      "metadata": {
        "colab": {
          "base_uri": "https://localhost:8080/"
        },
        "id": "U9StqJpZY1nE",
        "outputId": "a9f65ae4-f2f6-40b8-c83c-5566577411d3"
      },
      "execution_count": 6,
      "outputs": [
        {
          "output_type": "execute_result",
          "data": {
            "text/plain": [
              "(5909, 192)"
            ]
          },
          "metadata": {},
          "execution_count": 6
        }
      ]
    },
    {
      "cell_type": "code",
      "source": [
        "test.shape"
      ],
      "metadata": {
        "colab": {
          "base_uri": "https://localhost:8080/"
        },
        "id": "DG7C5cv_YZb5",
        "outputId": "7c071c70-472e-4ea5-e013-0ebbb7ea1a0c"
      },
      "execution_count": 7,
      "outputs": [
        {
          "output_type": "execute_result",
          "data": {
            "text/plain": [
              "(2469, 191)"
            ]
          },
          "metadata": {},
          "execution_count": 7
        }
      ]
    },
    {
      "cell_type": "code",
      "source": [
        "# show information about columns \n",
        "test.iloc[:,:64].info()"
      ],
      "metadata": {
        "colab": {
          "base_uri": "https://localhost:8080/"
        },
        "id": "c3xPm3nQXl0A",
        "outputId": "54977f7f-d51f-47e5-b6e6-fc0840134a8a"
      },
      "execution_count": 8,
      "outputs": [
        {
          "output_type": "stream",
          "name": "stdout",
          "text": [
            "<class 'pandas.core.frame.DataFrame'>\n",
            "RangeIndex: 2469 entries, 0 to 2468\n",
            "Data columns (total 64 columns):\n",
            " #   Column    Non-Null Count  Dtype  \n",
            "---  ------    --------------  -----  \n",
            " 0   gender    2469 non-null   int64  \n",
            " 1   idg       2469 non-null   int64  \n",
            " 2   condtn    2469 non-null   int64  \n",
            " 3   wave      2469 non-null   int64  \n",
            " 4   round     2469 non-null   int64  \n",
            " 5   position  2469 non-null   int64  \n",
            " 6   positin1  1941 non-null   float64\n",
            " 7   order     2469 non-null   int64  \n",
            " 8   partner   2469 non-null   int64  \n",
            " 9   pid       2467 non-null   float64\n",
            " 10  int_corr  2420 non-null   float64\n",
            " 11  samerace  2469 non-null   int64  \n",
            " 12  age_o     2430 non-null   float64\n",
            " 13  race_o    2444 non-null   float64\n",
            " 14  pf_o_att  2439 non-null   float64\n",
            " 15  pf_o_sin  2439 non-null   float64\n",
            " 16  pf_o_int  2439 non-null   float64\n",
            " 17  pf_o_fun  2437 non-null   float64\n",
            " 18  pf_o_amb  2435 non-null   float64\n",
            " 19  pf_o_sha  2423 non-null   float64\n",
            " 20  attr_o    2410 non-null   float64\n",
            " 21  sinc_o    2391 non-null   float64\n",
            " 22  intel_o   2383 non-null   float64\n",
            " 23  fun_o     2374 non-null   float64\n",
            " 24  amb_o     2259 non-null   float64\n",
            " 25  shar_o    2180 non-null   float64\n",
            " 26  like_o    2402 non-null   float64\n",
            " 27  prob_o    2386 non-null   float64\n",
            " 28  met_o     2359 non-null   float64\n",
            " 29  age       2437 non-null   float64\n",
            " 30  field     2451 non-null   object \n",
            " 31  field_cd  2446 non-null   float64\n",
            " 32  undergra  1447 non-null   object \n",
            " 33  mn_sat    898 non-null    object \n",
            " 34  tuition   1039 non-null   object \n",
            " 35  race      2451 non-null   float64\n",
            " 36  imprace   2448 non-null   float64\n",
            " 37  imprelig  2448 non-null   float64\n",
            " 38  from      2448 non-null   object \n",
            " 39  zipcode   2125 non-null   object \n",
            " 40  income    1232 non-null   object \n",
            " 41  goal      2448 non-null   float64\n",
            " 42  date      2444 non-null   float64\n",
            " 43  go_out    2448 non-null   float64\n",
            " 44  career    2444 non-null   object \n",
            " 45  career_c  2431 non-null   float64\n",
            " 46  sports    2448 non-null   float64\n",
            " 47  tvsports  2448 non-null   float64\n",
            " 48  exercise  2448 non-null   float64\n",
            " 49  dining    2448 non-null   float64\n",
            " 50  museums   2448 non-null   float64\n",
            " 51  art       2448 non-null   float64\n",
            " 52  hiking    2448 non-null   float64\n",
            " 53  gaming    2448 non-null   float64\n",
            " 54  clubbing  2448 non-null   float64\n",
            " 55  reading   2448 non-null   float64\n",
            " 56  tv        2448 non-null   float64\n",
            " 57  theater   2448 non-null   float64\n",
            " 58  movies    2448 non-null   float64\n",
            " 59  concerts  2448 non-null   float64\n",
            " 60  music     2448 non-null   float64\n",
            " 61  shopping  2448 non-null   float64\n",
            " 62  yoga      2448 non-null   float64\n",
            " 63  exphappy  2438 non-null   float64\n",
            "dtypes: float64(47), int64(9), object(8)\n",
            "memory usage: 1.2+ MB\n"
          ]
        }
      ]
    },
    {
      "cell_type": "code",
      "source": [
        "df.head()"
      ],
      "metadata": {
        "id": "BO7LAG2Qd8jV",
        "outputId": "85c7312f-9bc8-4d56-9713-a952c3aa2246",
        "colab": {
          "base_uri": "https://localhost:8080/",
          "height": 299
        }
      },
      "execution_count": 9,
      "outputs": [
        {
          "output_type": "execute_result",
          "data": {
            "text/html": [
              "\n",
              "  <div id=\"df-754667f8-b06f-430f-bdef-69b351007c10\">\n",
              "    <div class=\"colab-df-container\">\n",
              "      <div>\n",
              "<style scoped>\n",
              "    .dataframe tbody tr th:only-of-type {\n",
              "        vertical-align: middle;\n",
              "    }\n",
              "\n",
              "    .dataframe tbody tr th {\n",
              "        vertical-align: top;\n",
              "    }\n",
              "\n",
              "    .dataframe thead th {\n",
              "        text-align: right;\n",
              "    }\n",
              "</style>\n",
              "<table border=\"1\" class=\"dataframe\">\n",
              "  <thead>\n",
              "    <tr style=\"text-align: right;\">\n",
              "      <th></th>\n",
              "      <th>gender</th>\n",
              "      <th>idg</th>\n",
              "      <th>condtn</th>\n",
              "      <th>wave</th>\n",
              "      <th>round</th>\n",
              "      <th>position</th>\n",
              "      <th>positin1</th>\n",
              "      <th>order</th>\n",
              "      <th>partner</th>\n",
              "      <th>pid</th>\n",
              "      <th>...</th>\n",
              "      <th>sinc3_3</th>\n",
              "      <th>intel3_3</th>\n",
              "      <th>fun3_3</th>\n",
              "      <th>amb3_3</th>\n",
              "      <th>attr5_3</th>\n",
              "      <th>sinc5_3</th>\n",
              "      <th>intel5_3</th>\n",
              "      <th>fun5_3</th>\n",
              "      <th>amb5_3</th>\n",
              "      <th>id</th>\n",
              "    </tr>\n",
              "  </thead>\n",
              "  <tbody>\n",
              "    <tr>\n",
              "      <th>0</th>\n",
              "      <td>0</td>\n",
              "      <td>3</td>\n",
              "      <td>2</td>\n",
              "      <td>14</td>\n",
              "      <td>18</td>\n",
              "      <td>2</td>\n",
              "      <td>2.0</td>\n",
              "      <td>14</td>\n",
              "      <td>12</td>\n",
              "      <td>372.0</td>\n",
              "      <td>...</td>\n",
              "      <td>NaN</td>\n",
              "      <td>NaN</td>\n",
              "      <td>NaN</td>\n",
              "      <td>NaN</td>\n",
              "      <td>NaN</td>\n",
              "      <td>NaN</td>\n",
              "      <td>NaN</td>\n",
              "      <td>NaN</td>\n",
              "      <td>NaN</td>\n",
              "      <td>2583</td>\n",
              "    </tr>\n",
              "    <tr>\n",
              "      <th>1</th>\n",
              "      <td>1</td>\n",
              "      <td>14</td>\n",
              "      <td>1</td>\n",
              "      <td>3</td>\n",
              "      <td>10</td>\n",
              "      <td>2</td>\n",
              "      <td>NaN</td>\n",
              "      <td>8</td>\n",
              "      <td>8</td>\n",
              "      <td>63.0</td>\n",
              "      <td>...</td>\n",
              "      <td>8.0</td>\n",
              "      <td>8.0</td>\n",
              "      <td>7.0</td>\n",
              "      <td>8.0</td>\n",
              "      <td>NaN</td>\n",
              "      <td>NaN</td>\n",
              "      <td>NaN</td>\n",
              "      <td>NaN</td>\n",
              "      <td>NaN</td>\n",
              "      <td>6830</td>\n",
              "    </tr>\n",
              "    <tr>\n",
              "      <th>2</th>\n",
              "      <td>1</td>\n",
              "      <td>14</td>\n",
              "      <td>1</td>\n",
              "      <td>13</td>\n",
              "      <td>10</td>\n",
              "      <td>8</td>\n",
              "      <td>8.0</td>\n",
              "      <td>10</td>\n",
              "      <td>10</td>\n",
              "      <td>331.0</td>\n",
              "      <td>...</td>\n",
              "      <td>NaN</td>\n",
              "      <td>NaN</td>\n",
              "      <td>NaN</td>\n",
              "      <td>NaN</td>\n",
              "      <td>NaN</td>\n",
              "      <td>NaN</td>\n",
              "      <td>NaN</td>\n",
              "      <td>NaN</td>\n",
              "      <td>NaN</td>\n",
              "      <td>4840</td>\n",
              "    </tr>\n",
              "    <tr>\n",
              "      <th>3</th>\n",
              "      <td>1</td>\n",
              "      <td>38</td>\n",
              "      <td>2</td>\n",
              "      <td>9</td>\n",
              "      <td>20</td>\n",
              "      <td>18</td>\n",
              "      <td>13.0</td>\n",
              "      <td>6</td>\n",
              "      <td>7</td>\n",
              "      <td>200.0</td>\n",
              "      <td>...</td>\n",
              "      <td>9.0</td>\n",
              "      <td>8.0</td>\n",
              "      <td>8.0</td>\n",
              "      <td>6.0</td>\n",
              "      <td>NaN</td>\n",
              "      <td>NaN</td>\n",
              "      <td>NaN</td>\n",
              "      <td>NaN</td>\n",
              "      <td>NaN</td>\n",
              "      <td>5508</td>\n",
              "    </tr>\n",
              "    <tr>\n",
              "      <th>4</th>\n",
              "      <td>1</td>\n",
              "      <td>24</td>\n",
              "      <td>2</td>\n",
              "      <td>14</td>\n",
              "      <td>20</td>\n",
              "      <td>6</td>\n",
              "      <td>6.0</td>\n",
              "      <td>20</td>\n",
              "      <td>17</td>\n",
              "      <td>357.0</td>\n",
              "      <td>...</td>\n",
              "      <td>NaN</td>\n",
              "      <td>NaN</td>\n",
              "      <td>NaN</td>\n",
              "      <td>NaN</td>\n",
              "      <td>NaN</td>\n",
              "      <td>NaN</td>\n",
              "      <td>NaN</td>\n",
              "      <td>NaN</td>\n",
              "      <td>NaN</td>\n",
              "      <td>4828</td>\n",
              "    </tr>\n",
              "  </tbody>\n",
              "</table>\n",
              "<p>5 rows × 192 columns</p>\n",
              "</div>\n",
              "      <button class=\"colab-df-convert\" onclick=\"convertToInteractive('df-754667f8-b06f-430f-bdef-69b351007c10')\"\n",
              "              title=\"Convert this dataframe to an interactive table.\"\n",
              "              style=\"display:none;\">\n",
              "        \n",
              "  <svg xmlns=\"http://www.w3.org/2000/svg\" height=\"24px\"viewBox=\"0 0 24 24\"\n",
              "       width=\"24px\">\n",
              "    <path d=\"M0 0h24v24H0V0z\" fill=\"none\"/>\n",
              "    <path d=\"M18.56 5.44l.94 2.06.94-2.06 2.06-.94-2.06-.94-.94-2.06-.94 2.06-2.06.94zm-11 1L8.5 8.5l.94-2.06 2.06-.94-2.06-.94L8.5 2.5l-.94 2.06-2.06.94zm10 10l.94 2.06.94-2.06 2.06-.94-2.06-.94-.94-2.06-.94 2.06-2.06.94z\"/><path d=\"M17.41 7.96l-1.37-1.37c-.4-.4-.92-.59-1.43-.59-.52 0-1.04.2-1.43.59L10.3 9.45l-7.72 7.72c-.78.78-.78 2.05 0 2.83L4 21.41c.39.39.9.59 1.41.59.51 0 1.02-.2 1.41-.59l7.78-7.78 2.81-2.81c.8-.78.8-2.07 0-2.86zM5.41 20L4 18.59l7.72-7.72 1.47 1.35L5.41 20z\"/>\n",
              "  </svg>\n",
              "      </button>\n",
              "      \n",
              "  <style>\n",
              "    .colab-df-container {\n",
              "      display:flex;\n",
              "      flex-wrap:wrap;\n",
              "      gap: 12px;\n",
              "    }\n",
              "\n",
              "    .colab-df-convert {\n",
              "      background-color: #E8F0FE;\n",
              "      border: none;\n",
              "      border-radius: 50%;\n",
              "      cursor: pointer;\n",
              "      display: none;\n",
              "      fill: #1967D2;\n",
              "      height: 32px;\n",
              "      padding: 0 0 0 0;\n",
              "      width: 32px;\n",
              "    }\n",
              "\n",
              "    .colab-df-convert:hover {\n",
              "      background-color: #E2EBFA;\n",
              "      box-shadow: 0px 1px 2px rgba(60, 64, 67, 0.3), 0px 1px 3px 1px rgba(60, 64, 67, 0.15);\n",
              "      fill: #174EA6;\n",
              "    }\n",
              "\n",
              "    [theme=dark] .colab-df-convert {\n",
              "      background-color: #3B4455;\n",
              "      fill: #D2E3FC;\n",
              "    }\n",
              "\n",
              "    [theme=dark] .colab-df-convert:hover {\n",
              "      background-color: #434B5C;\n",
              "      box-shadow: 0px 1px 3px 1px rgba(0, 0, 0, 0.15);\n",
              "      filter: drop-shadow(0px 1px 2px rgba(0, 0, 0, 0.3));\n",
              "      fill: #FFFFFF;\n",
              "    }\n",
              "  </style>\n",
              "\n",
              "      <script>\n",
              "        const buttonEl =\n",
              "          document.querySelector('#df-754667f8-b06f-430f-bdef-69b351007c10 button.colab-df-convert');\n",
              "        buttonEl.style.display =\n",
              "          google.colab.kernel.accessAllowed ? 'block' : 'none';\n",
              "\n",
              "        async function convertToInteractive(key) {\n",
              "          const element = document.querySelector('#df-754667f8-b06f-430f-bdef-69b351007c10');\n",
              "          const dataTable =\n",
              "            await google.colab.kernel.invokeFunction('convertToInteractive',\n",
              "                                                     [key], {});\n",
              "          if (!dataTable) return;\n",
              "\n",
              "          const docLinkHtml = 'Like what you see? Visit the ' +\n",
              "            '<a target=\"_blank\" href=https://colab.research.google.com/notebooks/data_table.ipynb>data table notebook</a>'\n",
              "            + ' to learn more about interactive tables.';\n",
              "          element.innerHTML = '';\n",
              "          dataTable['output_type'] = 'display_data';\n",
              "          await google.colab.output.renderOutput(dataTable, element);\n",
              "          const docLink = document.createElement('div');\n",
              "          docLink.innerHTML = docLinkHtml;\n",
              "          element.appendChild(docLink);\n",
              "        }\n",
              "      </script>\n",
              "    </div>\n",
              "  </div>\n",
              "  "
            ],
            "text/plain": [
              "   gender  idg  condtn  wave  round  position  positin1  order  partner  \\\n",
              "0       0    3       2    14     18         2       2.0     14       12   \n",
              "1       1   14       1     3     10         2       NaN      8        8   \n",
              "2       1   14       1    13     10         8       8.0     10       10   \n",
              "3       1   38       2     9     20        18      13.0      6        7   \n",
              "4       1   24       2    14     20         6       6.0     20       17   \n",
              "\n",
              "     pid  ...  sinc3_3  intel3_3  fun3_3  amb3_3  attr5_3  sinc5_3  intel5_3  \\\n",
              "0  372.0  ...      NaN       NaN     NaN     NaN      NaN      NaN       NaN   \n",
              "1   63.0  ...      8.0       8.0     7.0     8.0      NaN      NaN       NaN   \n",
              "2  331.0  ...      NaN       NaN     NaN     NaN      NaN      NaN       NaN   \n",
              "3  200.0  ...      9.0       8.0     8.0     6.0      NaN      NaN       NaN   \n",
              "4  357.0  ...      NaN       NaN     NaN     NaN      NaN      NaN       NaN   \n",
              "\n",
              "   fun5_3  amb5_3    id  \n",
              "0     NaN     NaN  2583  \n",
              "1     NaN     NaN  6830  \n",
              "2     NaN     NaN  4840  \n",
              "3     NaN     NaN  5508  \n",
              "4     NaN     NaN  4828  \n",
              "\n",
              "[5 rows x 192 columns]"
            ]
          },
          "metadata": {},
          "execution_count": 9
        }
      ]
    },
    {
      "cell_type": "code",
      "source": [
        "df.iloc[:,0:64].info()"
      ],
      "metadata": {
        "id": "IGm3hX9Yd9XL",
        "outputId": "d31a3cfb-82fe-4dec-8ff3-2d408b97e8c9",
        "colab": {
          "base_uri": "https://localhost:8080/"
        }
      },
      "execution_count": 10,
      "outputs": [
        {
          "output_type": "stream",
          "name": "stdout",
          "text": [
            "<class 'pandas.core.frame.DataFrame'>\n",
            "RangeIndex: 5909 entries, 0 to 5908\n",
            "Data columns (total 64 columns):\n",
            " #   Column    Non-Null Count  Dtype  \n",
            "---  ------    --------------  -----  \n",
            " 0   gender    5909 non-null   int64  \n",
            " 1   idg       5909 non-null   int64  \n",
            " 2   condtn    5909 non-null   int64  \n",
            " 3   wave      5909 non-null   int64  \n",
            " 4   round     5909 non-null   int64  \n",
            " 5   position  5909 non-null   int64  \n",
            " 6   positin1  4591 non-null   float64\n",
            " 7   order     5909 non-null   int64  \n",
            " 8   partner   5909 non-null   int64  \n",
            " 9   pid       5901 non-null   float64\n",
            " 10  match     5909 non-null   int64  \n",
            " 11  int_corr  5800 non-null   float64\n",
            " 12  samerace  5909 non-null   int64  \n",
            " 13  age_o     5844 non-null   float64\n",
            " 14  race_o    5861 non-null   float64\n",
            " 15  pf_o_att  5850 non-null   float64\n",
            " 16  pf_o_sin  5850 non-null   float64\n",
            " 17  pf_o_int  5850 non-null   float64\n",
            " 18  pf_o_fun  5843 non-null   float64\n",
            " 19  pf_o_amb  5836 non-null   float64\n",
            " 20  pf_o_sha  5826 non-null   float64\n",
            " 21  attr_o    5756 non-null   float64\n",
            " 22  sinc_o    5700 non-null   float64\n",
            " 23  intel_o   5689 non-null   float64\n",
            " 24  fun_o     5644 non-null   float64\n",
            " 25  amb_o     5397 non-null   float64\n",
            " 26  shar_o    5122 non-null   float64\n",
            " 27  like_o    5726 non-null   float64\n",
            " 28  prob_o    5674 non-null   float64\n",
            " 29  met_o     5634 non-null   float64\n",
            " 30  age       5846 non-null   float64\n",
            " 31  field     5864 non-null   object \n",
            " 32  field_cd  5850 non-null   float64\n",
            " 33  undergra  3467 non-null   object \n",
            " 34  mn_sat    2235 non-null   object \n",
            " 35  tuition   2544 non-null   object \n",
            " 36  race      5864 non-null   float64\n",
            " 37  imprace   5851 non-null   float64\n",
            " 38  imprelig  5851 non-null   float64\n",
            " 39  from      5851 non-null   object \n",
            " 40  zipcode   5189 non-null   object \n",
            " 41  income    3047 non-null   object \n",
            " 42  goal      5851 non-null   float64\n",
            " 43  date      5837 non-null   float64\n",
            " 44  go_out    5851 non-null   float64\n",
            " 45  career    5845 non-null   object \n",
            " 46  career_c  5809 non-null   float64\n",
            " 47  sports    5851 non-null   float64\n",
            " 48  tvsports  5851 non-null   float64\n",
            " 49  exercise  5851 non-null   float64\n",
            " 50  dining    5851 non-null   float64\n",
            " 51  museums   5851 non-null   float64\n",
            " 52  art       5851 non-null   float64\n",
            " 53  hiking    5851 non-null   float64\n",
            " 54  gaming    5851 non-null   float64\n",
            " 55  clubbing  5851 non-null   float64\n",
            " 56  reading   5851 non-null   float64\n",
            " 57  tv        5851 non-null   float64\n",
            " 58  theater   5851 non-null   float64\n",
            " 59  movies    5851 non-null   float64\n",
            " 60  concerts  5851 non-null   float64\n",
            " 61  music     5851 non-null   float64\n",
            " 62  shopping  5851 non-null   float64\n",
            " 63  yoga      5851 non-null   float64\n",
            "dtypes: float64(46), int64(10), object(8)\n",
            "memory usage: 2.9+ MB\n"
          ]
        }
      ]
    },
    {
      "cell_type": "code",
      "source": [
        "df.iloc[:,64:129].info()"
      ],
      "metadata": {
        "colab": {
          "base_uri": "https://localhost:8080/"
        },
        "id": "4VYk_-51gb2a",
        "outputId": "c9744613-1340-4b63-be83-12d5bb3d8bb0"
      },
      "execution_count": 11,
      "outputs": [
        {
          "output_type": "stream",
          "name": "stdout",
          "text": [
            "<class 'pandas.core.frame.DataFrame'>\n",
            "RangeIndex: 5909 entries, 0 to 5908\n",
            "Data columns (total 65 columns):\n",
            " #   Column    Non-Null Count  Dtype  \n",
            "---  ------    --------------  -----  \n",
            " 0   exphappy  5839 non-null   float64\n",
            " 1   expnum    1282 non-null   float64\n",
            " 2   attr1_1   5851 non-null   float64\n",
            " 3   sinc1_1   5851 non-null   float64\n",
            " 4   intel1_1  5851 non-null   float64\n",
            " 5   fun1_1    5844 non-null   float64\n",
            " 6   amb1_1    5838 non-null   float64\n",
            " 7   shar1_1   5821 non-null   float64\n",
            " 8   attr4_1   4563 non-null   float64\n",
            " 9   sinc4_1   4563 non-null   float64\n",
            " 10  intel4_1  4563 non-null   float64\n",
            " 11  fun4_1    4563 non-null   float64\n",
            " 12  amb4_1    4563 non-null   float64\n",
            " 13  shar4_1   4546 non-null   float64\n",
            " 14  attr2_1   5851 non-null   float64\n",
            " 15  sinc2_1   5851 non-null   float64\n",
            " 16  intel2_1  5851 non-null   float64\n",
            " 17  fun2_1    5851 non-null   float64\n",
            " 18  amb2_1    5844 non-null   float64\n",
            " 19  shar2_1   5844 non-null   float64\n",
            " 20  attr3_1   5828 non-null   float64\n",
            " 21  sinc3_1   5828 non-null   float64\n",
            " 22  fun3_1    5828 non-null   float64\n",
            " 23  intel3_1  5828 non-null   float64\n",
            " 24  amb3_1    5828 non-null   float64\n",
            " 25  attr5_1   3457 non-null   float64\n",
            " 26  sinc5_1   3457 non-null   float64\n",
            " 27  intel5_1  3457 non-null   float64\n",
            " 28  fun5_1    3457 non-null   float64\n",
            " 29  amb5_1    3457 non-null   float64\n",
            " 30  attr      5766 non-null   float64\n",
            " 31  sinc      5709 non-null   float64\n",
            " 32  intel     5704 non-null   float64\n",
            " 33  fun       5653 non-null   float64\n",
            " 34  amb       5405 non-null   float64\n",
            " 35  shar      5147 non-null   float64\n",
            " 36  like      5734 non-null   float64\n",
            " 37  prob      5682 non-null   float64\n",
            " 38  met       5657 non-null   float64\n",
            " 39  match_es  5083 non-null   float64\n",
            " 40  attr1_s   2915 non-null   float64\n",
            " 41  sinc1_s   2915 non-null   float64\n",
            " 42  intel1_s  2915 non-null   float64\n",
            " 43  fun1_s    2915 non-null   float64\n",
            " 44  amb1_s    2915 non-null   float64\n",
            " 45  shar1_s   2915 non-null   float64\n",
            " 46  attr3_s   2840 non-null   float64\n",
            " 47  sinc3_s   2840 non-null   float64\n",
            " 48  intel3_s  2840 non-null   float64\n",
            " 49  fun3_s    2840 non-null   float64\n",
            " 50  amb3_s    2840 non-null   float64\n",
            " 51  satis_2   5262 non-null   float64\n",
            " 52  length    5262 non-null   float64\n",
            " 53  numdat_2  5239 non-null   float64\n",
            " 54  attr7_2   1411 non-null   float64\n",
            " 55  sinc7_2   1390 non-null   float64\n",
            " 56  intel7_2  1411 non-null   float64\n",
            " 57  fun7_2    1411 non-null   float64\n",
            " 58  amb7_2    1390 non-null   float64\n",
            " 59  shar7_2   1404 non-null   float64\n",
            " 60  attr1_2   5251 non-null   float64\n",
            " 61  sinc1_2   5262 non-null   float64\n",
            " 62  intel1_2  5262 non-null   float64\n",
            " 63  fun1_2    5262 non-null   float64\n",
            " 64  amb1_2    5262 non-null   float64\n",
            "dtypes: float64(65)\n",
            "memory usage: 2.9 MB\n"
          ]
        }
      ]
    },
    {
      "cell_type": "code",
      "source": [
        "df.iloc[:,129:193].info()"
      ],
      "metadata": {
        "id": "XfBA5WQ0fM_0",
        "colab": {
          "base_uri": "https://localhost:8080/"
        },
        "outputId": "5d3296b7-0702-4f4a-e320-42da28bfd44b"
      },
      "execution_count": 12,
      "outputs": [
        {
          "output_type": "stream",
          "name": "stdout",
          "text": [
            "<class 'pandas.core.frame.DataFrame'>\n",
            "RangeIndex: 5909 entries, 0 to 5908\n",
            "Data columns (total 63 columns):\n",
            " #   Column    Non-Null Count  Dtype  \n",
            "---  ------    --------------  -----  \n",
            " 0   shar1_2   5262 non-null   float64\n",
            " 1   attr4_2   4063 non-null   float64\n",
            " 2   sinc4_2   4063 non-null   float64\n",
            " 3   intel4_2  4063 non-null   float64\n",
            " 4   fun4_2    4063 non-null   float64\n",
            " 5   amb4_2    4063 non-null   float64\n",
            " 6   shar4_2   4063 non-null   float64\n",
            " 7   attr2_2   4063 non-null   float64\n",
            " 8   sinc2_2   4063 non-null   float64\n",
            " 9   intel2_2  4063 non-null   float64\n",
            " 10  fun2_2    4063 non-null   float64\n",
            " 11  amb2_2    4063 non-null   float64\n",
            " 12  shar2_2   4063 non-null   float64\n",
            " 13  attr3_2   5262 non-null   float64\n",
            " 14  sinc3_2   5262 non-null   float64\n",
            " 15  intel3_2  5262 non-null   float64\n",
            " 16  fun3_2    5262 non-null   float64\n",
            " 17  amb3_2    5262 non-null   float64\n",
            " 18  attr5_2   3088 non-null   float64\n",
            " 19  sinc5_2   3088 non-null   float64\n",
            " 20  intel5_2  3088 non-null   float64\n",
            " 21  fun5_2    3088 non-null   float64\n",
            " 22  amb5_2    3088 non-null   float64\n",
            " 23  you_call  2804 non-null   float64\n",
            " 24  them_cal  2804 non-null   float64\n",
            " 25  date_3    2804 non-null   float64\n",
            " 26  numdat_3  1060 non-null   float64\n",
            " 27  num_in_3  460 non-null    float64\n",
            " 28  attr1_3   2804 non-null   float64\n",
            " 29  sinc1_3   2804 non-null   float64\n",
            " 30  intel1_3  2804 non-null   float64\n",
            " 31  fun1_3    2804 non-null   float64\n",
            " 32  amb1_3    2804 non-null   float64\n",
            " 33  shar1_3   2804 non-null   float64\n",
            " 34  attr7_3   1413 non-null   float64\n",
            " 35  sinc7_3   1413 non-null   float64\n",
            " 36  intel7_3  1413 non-null   float64\n",
            " 37  fun7_3    1413 non-null   float64\n",
            " 38  amb7_3    1413 non-null   float64\n",
            " 39  shar7_3   1413 non-null   float64\n",
            " 40  attr4_3   2071 non-null   float64\n",
            " 41  sinc4_3   2071 non-null   float64\n",
            " 42  intel4_3  2071 non-null   float64\n",
            " 43  fun4_3    2071 non-null   float64\n",
            " 44  amb4_3    2071 non-null   float64\n",
            " 45  shar4_3   2071 non-null   float64\n",
            " 46  attr2_3   2071 non-null   float64\n",
            " 47  sinc2_3   2071 non-null   float64\n",
            " 48  intel2_3  2071 non-null   float64\n",
            " 49  fun2_3    2071 non-null   float64\n",
            " 50  amb2_3    2071 non-null   float64\n",
            " 51  shar2_3   1413 non-null   float64\n",
            " 52  attr3_3   2804 non-null   float64\n",
            " 53  sinc3_3   2804 non-null   float64\n",
            " 54  intel3_3  2804 non-null   float64\n",
            " 55  fun3_3    2804 non-null   float64\n",
            " 56  amb3_3    2804 non-null   float64\n",
            " 57  attr5_3   1413 non-null   float64\n",
            " 58  sinc5_3   1413 non-null   float64\n",
            " 59  intel5_3  1413 non-null   float64\n",
            " 60  fun5_3    1413 non-null   float64\n",
            " 61  amb5_3    1413 non-null   float64\n",
            " 62  id        5909 non-null   int64  \n",
            "dtypes: float64(62), int64(1)\n",
            "memory usage: 2.8 MB\n"
          ]
        }
      ]
    },
    {
      "cell_type": "code",
      "source": [
        "df.isnull().sum()"
      ],
      "metadata": {
        "colab": {
          "base_uri": "https://localhost:8080/"
        },
        "id": "dDoryJoXxoY_",
        "outputId": "46b0a830-4417-4505-8932-cd26e478db3f"
      },
      "execution_count": 13,
      "outputs": [
        {
          "output_type": "execute_result",
          "data": {
            "text/plain": [
              "gender         0\n",
              "idg            0\n",
              "condtn         0\n",
              "wave           0\n",
              "round          0\n",
              "            ... \n",
              "sinc5_3     4496\n",
              "intel5_3    4496\n",
              "fun5_3      4496\n",
              "amb5_3      4496\n",
              "id             0\n",
              "Length: 192, dtype: int64"
            ]
          },
          "metadata": {},
          "execution_count": 13
        }
      ]
    },
    {
      "cell_type": "markdown",
      "source": [
        "drop columns with a lot of missing values, around half of the values are missing "
      ],
      "metadata": {
        "id": "pBXfGPpOSf50"
      }
    },
    {
      "cell_type": "code",
      "source": [
        "df.drop(['attr7_2', 'sinc7_2', 'shar7_2', 'amb7_2', 'fun7_2', 'intel7_2','attr1_s', 'expnum', 'sinc1_s', 'intel1_s', 'fun1_s', 'amb1_s',\n",
        "'shar1_s', 'attr3_s', 'sinc3_s', 'intel3_s', 'fun3_s' ,'amb3_s', 'attr5_1', 'sinc5_1', 'intel5_1', 'fun5_1', 'amb5_1', 'attr5_2', 'sinc5_2',\n",
        "'intel5_2', 'fun5_2','amb5_2' ,'you_call', 'them_cal', 'date_3','numdat_3', 'num_in_3', 'attr1_3', 'sinc1_3', 'intel1_3', 'fun1_3', 'amb1_3',\n",
        " 'shar1_3', 'attr7_3', 'sinc7_3', 'intel7_3', 'fun7_3', 'amb7_3','shar7_3', 'attr4_3', 'sinc4_3', 'intel4_3', 'fun4_3', 'amb4_3', 'shar4_3',\n",
        "'attr2_3', 'sinc2_3', 'intel2_3', 'fun2_3', 'amb2_3', 'shar2_3', 'attr3_3', 'sinc3_3', 'intel3_3', 'fun3_3',   'amb3_3', 'attr5_3', 'sinc5_3',\n",
        " 'intel5_3', 'fun5_3', 'amb5_3', 'undergra', 'mn_sat', 'tuition', 'income', 'positin1'], axis = 1, inplace = True)"
      ],
      "metadata": {
        "id": "wDzT01qkX9Po"
      },
      "execution_count": 14,
      "outputs": []
    },
    {
      "cell_type": "code",
      "source": [
        "test.drop(['attr7_2', 'sinc7_2', 'shar7_2', 'amb7_2', 'fun7_2', 'intel7_2',\n",
        "         'attr1_s', 'expnum', 'sinc1_s', 'intel1_s', 'fun1_s', 'amb1_s',\n",
        "         'shar1_s', 'attr3_s', 'sinc3_s', 'intel3_s', 'fun3_s' ,\n",
        "         'amb3_s', 'attr5_1', 'sinc5_1', 'intel5_1', 'fun5_1', 'amb5_1'], axis=1, inplace=True)"
      ],
      "metadata": {
        "id": "jm6H8j6NX3kj"
      },
      "execution_count": 15,
      "outputs": []
    },
    {
      "cell_type": "code",
      "source": [
        "test.drop(['attr5_2', 'sinc5_2', 'intel5_2', 'fun5_2','amb5_2' ,'you_call', 'them_cal', 'date_3','numdat_3', \n",
        "'num_in_3', 'attr1_3', 'sinc1_3', 'intel1_3', 'fun1_3', 'amb1_3', 'shar1_3', 'attr7_3', 'sinc7_3', \n",
        "'intel7_3', 'fun7_3', 'amb7_3','shar7_3', 'attr4_3', 'sinc4_3', 'intel4_3', 'fun4_3', 'amb4_3', 'shar4_3',\n",
        "'attr2_3', 'sinc2_3', 'intel2_3', 'fun2_3', 'amb2_3', 'shar2_3', 'attr3_3', 'sinc3_3', 'intel3_3', 'fun3_3',   \n",
        "'amb3_3', 'attr5_3', 'sinc5_3', 'intel5_3', 'fun5_3', 'amb5_3', 'undergra', 'mn_sat', 'tuition', 'income', 'positin1'], axis = 1, inplace = True)"
      ],
      "metadata": {
        "id": "tNJejTOjYVo7"
      },
      "execution_count": 16,
      "outputs": []
    },
    {
      "cell_type": "markdown",
      "source": [
        "drop redundent column as career_c represent the same values as career"
      ],
      "metadata": {
        "id": "bFUqZcIlSY2k"
      }
    },
    {
      "cell_type": "code",
      "source": [
        "# drop career columns\n",
        "df.drop('career', axis=1, inplace=True)\n",
        "test.drop('career', axis=1, inplace=True)"
      ],
      "metadata": {
        "id": "fdZSuBq_2mbL"
      },
      "execution_count": 17,
      "outputs": []
    },
    {
      "cell_type": "code",
      "source": [
        "df.iloc[:,0:50].info()"
      ],
      "metadata": {
        "colab": {
          "base_uri": "https://localhost:8080/"
        },
        "id": "Y2-g-cRCzmwE",
        "outputId": "59182965-60f5-4085-ac69-e330ba9c8b5b"
      },
      "execution_count": 18,
      "outputs": [
        {
          "output_type": "stream",
          "name": "stdout",
          "text": [
            "<class 'pandas.core.frame.DataFrame'>\n",
            "RangeIndex: 5909 entries, 0 to 5908\n",
            "Data columns (total 50 columns):\n",
            " #   Column    Non-Null Count  Dtype  \n",
            "---  ------    --------------  -----  \n",
            " 0   gender    5909 non-null   int64  \n",
            " 1   idg       5909 non-null   int64  \n",
            " 2   condtn    5909 non-null   int64  \n",
            " 3   wave      5909 non-null   int64  \n",
            " 4   round     5909 non-null   int64  \n",
            " 5   position  5909 non-null   int64  \n",
            " 6   order     5909 non-null   int64  \n",
            " 7   partner   5909 non-null   int64  \n",
            " 8   pid       5901 non-null   float64\n",
            " 9   match     5909 non-null   int64  \n",
            " 10  int_corr  5800 non-null   float64\n",
            " 11  samerace  5909 non-null   int64  \n",
            " 12  age_o     5844 non-null   float64\n",
            " 13  race_o    5861 non-null   float64\n",
            " 14  pf_o_att  5850 non-null   float64\n",
            " 15  pf_o_sin  5850 non-null   float64\n",
            " 16  pf_o_int  5850 non-null   float64\n",
            " 17  pf_o_fun  5843 non-null   float64\n",
            " 18  pf_o_amb  5836 non-null   float64\n",
            " 19  pf_o_sha  5826 non-null   float64\n",
            " 20  attr_o    5756 non-null   float64\n",
            " 21  sinc_o    5700 non-null   float64\n",
            " 22  intel_o   5689 non-null   float64\n",
            " 23  fun_o     5644 non-null   float64\n",
            " 24  amb_o     5397 non-null   float64\n",
            " 25  shar_o    5122 non-null   float64\n",
            " 26  like_o    5726 non-null   float64\n",
            " 27  prob_o    5674 non-null   float64\n",
            " 28  met_o     5634 non-null   float64\n",
            " 29  age       5846 non-null   float64\n",
            " 30  field     5864 non-null   object \n",
            " 31  field_cd  5850 non-null   float64\n",
            " 32  race      5864 non-null   float64\n",
            " 33  imprace   5851 non-null   float64\n",
            " 34  imprelig  5851 non-null   float64\n",
            " 35  from      5851 non-null   object \n",
            " 36  zipcode   5189 non-null   object \n",
            " 37  goal      5851 non-null   float64\n",
            " 38  date      5837 non-null   float64\n",
            " 39  go_out    5851 non-null   float64\n",
            " 40  career_c  5809 non-null   float64\n",
            " 41  sports    5851 non-null   float64\n",
            " 42  tvsports  5851 non-null   float64\n",
            " 43  exercise  5851 non-null   float64\n",
            " 44  dining    5851 non-null   float64\n",
            " 45  museums   5851 non-null   float64\n",
            " 46  art       5851 non-null   float64\n",
            " 47  hiking    5851 non-null   float64\n",
            " 48  gaming    5851 non-null   float64\n",
            " 49  clubbing  5851 non-null   float64\n",
            "dtypes: float64(37), int64(10), object(3)\n",
            "memory usage: 2.3+ MB\n"
          ]
        }
      ]
    },
    {
      "cell_type": "code",
      "source": [
        "df.iloc[:,50:].info()"
      ],
      "metadata": {
        "colab": {
          "base_uri": "https://localhost:8080/"
        },
        "id": "tyElXdfy5LyE",
        "outputId": "612764a0-b0e5-453e-f392-7bc893a96ac0"
      },
      "execution_count": 19,
      "outputs": [
        {
          "output_type": "stream",
          "name": "stdout",
          "text": [
            "<class 'pandas.core.frame.DataFrame'>\n",
            "RangeIndex: 5909 entries, 0 to 5908\n",
            "Data columns (total 69 columns):\n",
            " #   Column    Non-Null Count  Dtype  \n",
            "---  ------    --------------  -----  \n",
            " 0   reading   5851 non-null   float64\n",
            " 1   tv        5851 non-null   float64\n",
            " 2   theater   5851 non-null   float64\n",
            " 3   movies    5851 non-null   float64\n",
            " 4   concerts  5851 non-null   float64\n",
            " 5   music     5851 non-null   float64\n",
            " 6   shopping  5851 non-null   float64\n",
            " 7   yoga      5851 non-null   float64\n",
            " 8   exphappy  5839 non-null   float64\n",
            " 9   attr1_1   5851 non-null   float64\n",
            " 10  sinc1_1   5851 non-null   float64\n",
            " 11  intel1_1  5851 non-null   float64\n",
            " 12  fun1_1    5844 non-null   float64\n",
            " 13  amb1_1    5838 non-null   float64\n",
            " 14  shar1_1   5821 non-null   float64\n",
            " 15  attr4_1   4563 non-null   float64\n",
            " 16  sinc4_1   4563 non-null   float64\n",
            " 17  intel4_1  4563 non-null   float64\n",
            " 18  fun4_1    4563 non-null   float64\n",
            " 19  amb4_1    4563 non-null   float64\n",
            " 20  shar4_1   4546 non-null   float64\n",
            " 21  attr2_1   5851 non-null   float64\n",
            " 22  sinc2_1   5851 non-null   float64\n",
            " 23  intel2_1  5851 non-null   float64\n",
            " 24  fun2_1    5851 non-null   float64\n",
            " 25  amb2_1    5844 non-null   float64\n",
            " 26  shar2_1   5844 non-null   float64\n",
            " 27  attr3_1   5828 non-null   float64\n",
            " 28  sinc3_1   5828 non-null   float64\n",
            " 29  fun3_1    5828 non-null   float64\n",
            " 30  intel3_1  5828 non-null   float64\n",
            " 31  amb3_1    5828 non-null   float64\n",
            " 32  attr      5766 non-null   float64\n",
            " 33  sinc      5709 non-null   float64\n",
            " 34  intel     5704 non-null   float64\n",
            " 35  fun       5653 non-null   float64\n",
            " 36  amb       5405 non-null   float64\n",
            " 37  shar      5147 non-null   float64\n",
            " 38  like      5734 non-null   float64\n",
            " 39  prob      5682 non-null   float64\n",
            " 40  met       5657 non-null   float64\n",
            " 41  match_es  5083 non-null   float64\n",
            " 42  satis_2   5262 non-null   float64\n",
            " 43  length    5262 non-null   float64\n",
            " 44  numdat_2  5239 non-null   float64\n",
            " 45  attr1_2   5251 non-null   float64\n",
            " 46  sinc1_2   5262 non-null   float64\n",
            " 47  intel1_2  5262 non-null   float64\n",
            " 48  fun1_2    5262 non-null   float64\n",
            " 49  amb1_2    5262 non-null   float64\n",
            " 50  shar1_2   5262 non-null   float64\n",
            " 51  attr4_2   4063 non-null   float64\n",
            " 52  sinc4_2   4063 non-null   float64\n",
            " 53  intel4_2  4063 non-null   float64\n",
            " 54  fun4_2    4063 non-null   float64\n",
            " 55  amb4_2    4063 non-null   float64\n",
            " 56  shar4_2   4063 non-null   float64\n",
            " 57  attr2_2   4063 non-null   float64\n",
            " 58  sinc2_2   4063 non-null   float64\n",
            " 59  intel2_2  4063 non-null   float64\n",
            " 60  fun2_2    4063 non-null   float64\n",
            " 61  amb2_2    4063 non-null   float64\n",
            " 62  shar2_2   4063 non-null   float64\n",
            " 63  attr3_2   5262 non-null   float64\n",
            " 64  sinc3_2   5262 non-null   float64\n",
            " 65  intel3_2  5262 non-null   float64\n",
            " 66  fun3_2    5262 non-null   float64\n",
            " 67  amb3_2    5262 non-null   float64\n",
            " 68  id        5909 non-null   int64  \n",
            "dtypes: float64(68), int64(1)\n",
            "memory usage: 3.1 MB\n"
          ]
        }
      ]
    },
    {
      "cell_type": "code",
      "source": [
        "df.shape"
      ],
      "metadata": {
        "colab": {
          "base_uri": "https://localhost:8080/"
        },
        "id": "YDWaVhmXB8eA",
        "outputId": "193b71e8-765d-4f2c-c6bf-909ee330cd91"
      },
      "execution_count": 20,
      "outputs": [
        {
          "output_type": "execute_result",
          "data": {
            "text/plain": [
              "(5909, 119)"
            ]
          },
          "metadata": {},
          "execution_count": 20
        }
      ]
    },
    {
      "cell_type": "code",
      "source": [
        "df.iloc[:,50:].info()"
      ],
      "metadata": {
        "id": "bZ5e0iFlQoQO",
        "colab": {
          "base_uri": "https://localhost:8080/"
        },
        "outputId": "16195823-1828-4dc0-865e-b9673b240017"
      },
      "execution_count": 21,
      "outputs": [
        {
          "output_type": "stream",
          "name": "stdout",
          "text": [
            "<class 'pandas.core.frame.DataFrame'>\n",
            "RangeIndex: 5909 entries, 0 to 5908\n",
            "Data columns (total 69 columns):\n",
            " #   Column    Non-Null Count  Dtype  \n",
            "---  ------    --------------  -----  \n",
            " 0   reading   5851 non-null   float64\n",
            " 1   tv        5851 non-null   float64\n",
            " 2   theater   5851 non-null   float64\n",
            " 3   movies    5851 non-null   float64\n",
            " 4   concerts  5851 non-null   float64\n",
            " 5   music     5851 non-null   float64\n",
            " 6   shopping  5851 non-null   float64\n",
            " 7   yoga      5851 non-null   float64\n",
            " 8   exphappy  5839 non-null   float64\n",
            " 9   attr1_1   5851 non-null   float64\n",
            " 10  sinc1_1   5851 non-null   float64\n",
            " 11  intel1_1  5851 non-null   float64\n",
            " 12  fun1_1    5844 non-null   float64\n",
            " 13  amb1_1    5838 non-null   float64\n",
            " 14  shar1_1   5821 non-null   float64\n",
            " 15  attr4_1   4563 non-null   float64\n",
            " 16  sinc4_1   4563 non-null   float64\n",
            " 17  intel4_1  4563 non-null   float64\n",
            " 18  fun4_1    4563 non-null   float64\n",
            " 19  amb4_1    4563 non-null   float64\n",
            " 20  shar4_1   4546 non-null   float64\n",
            " 21  attr2_1   5851 non-null   float64\n",
            " 22  sinc2_1   5851 non-null   float64\n",
            " 23  intel2_1  5851 non-null   float64\n",
            " 24  fun2_1    5851 non-null   float64\n",
            " 25  amb2_1    5844 non-null   float64\n",
            " 26  shar2_1   5844 non-null   float64\n",
            " 27  attr3_1   5828 non-null   float64\n",
            " 28  sinc3_1   5828 non-null   float64\n",
            " 29  fun3_1    5828 non-null   float64\n",
            " 30  intel3_1  5828 non-null   float64\n",
            " 31  amb3_1    5828 non-null   float64\n",
            " 32  attr      5766 non-null   float64\n",
            " 33  sinc      5709 non-null   float64\n",
            " 34  intel     5704 non-null   float64\n",
            " 35  fun       5653 non-null   float64\n",
            " 36  amb       5405 non-null   float64\n",
            " 37  shar      5147 non-null   float64\n",
            " 38  like      5734 non-null   float64\n",
            " 39  prob      5682 non-null   float64\n",
            " 40  met       5657 non-null   float64\n",
            " 41  match_es  5083 non-null   float64\n",
            " 42  satis_2   5262 non-null   float64\n",
            " 43  length    5262 non-null   float64\n",
            " 44  numdat_2  5239 non-null   float64\n",
            " 45  attr1_2   5251 non-null   float64\n",
            " 46  sinc1_2   5262 non-null   float64\n",
            " 47  intel1_2  5262 non-null   float64\n",
            " 48  fun1_2    5262 non-null   float64\n",
            " 49  amb1_2    5262 non-null   float64\n",
            " 50  shar1_2   5262 non-null   float64\n",
            " 51  attr4_2   4063 non-null   float64\n",
            " 52  sinc4_2   4063 non-null   float64\n",
            " 53  intel4_2  4063 non-null   float64\n",
            " 54  fun4_2    4063 non-null   float64\n",
            " 55  amb4_2    4063 non-null   float64\n",
            " 56  shar4_2   4063 non-null   float64\n",
            " 57  attr2_2   4063 non-null   float64\n",
            " 58  sinc2_2   4063 non-null   float64\n",
            " 59  intel2_2  4063 non-null   float64\n",
            " 60  fun2_2    4063 non-null   float64\n",
            " 61  amb2_2    4063 non-null   float64\n",
            " 62  shar2_2   4063 non-null   float64\n",
            " 63  attr3_2   5262 non-null   float64\n",
            " 64  sinc3_2   5262 non-null   float64\n",
            " 65  intel3_2  5262 non-null   float64\n",
            " 66  fun3_2    5262 non-null   float64\n",
            " 67  amb3_2    5262 non-null   float64\n",
            " 68  id        5909 non-null   int64  \n",
            "dtypes: float64(68), int64(1)\n",
            "memory usage: 3.1 MB\n"
          ]
        }
      ]
    },
    {
      "cell_type": "code",
      "source": [
        "df['met'].value_counts()"
      ],
      "metadata": {
        "id": "Ndg8Y8MhQvlV",
        "colab": {
          "base_uri": "https://localhost:8080/"
        },
        "outputId": "69332cff-308c-4020-9dfb-df1cdc042b02"
      },
      "execution_count": 22,
      "outputs": [
        {
          "output_type": "execute_result",
          "data": {
            "text/plain": [
              "0.0    2869\n",
              "2.0    2557\n",
              "1.0     228\n",
              "5.0       1\n",
              "8.0       1\n",
              "7.0       1\n",
              "Name: met, dtype: int64"
            ]
          },
          "metadata": {},
          "execution_count": 22
        }
      ]
    },
    {
      "cell_type": "code",
      "source": [
        "df['clubbing'].value_counts()"
      ],
      "metadata": {
        "id": "DpolaaGoUN8Y",
        "colab": {
          "base_uri": "https://localhost:8080/"
        },
        "outputId": "f6a53109-05e0-4f64-b817-e876c31c1e23"
      },
      "execution_count": 23,
      "outputs": [
        {
          "output_type": "execute_result",
          "data": {
            "text/plain": [
              "8.0     977\n",
              "7.0     900\n",
              "6.0     801\n",
              "9.0     694\n",
              "5.0     642\n",
              "1.0     522\n",
              "3.0     514\n",
              "4.0     459\n",
              "2.0     251\n",
              "10.0     76\n",
              "0.0      15\n",
              "Name: clubbing, dtype: int64"
            ]
          },
          "metadata": {},
          "execution_count": 23
        }
      ]
    },
    {
      "cell_type": "code",
      "source": [
        "df['race_o'].value_counts()"
      ],
      "metadata": {
        "id": "PYdEVsF5Ur7E",
        "colab": {
          "base_uri": "https://localhost:8080/"
        },
        "outputId": "d31a7e0a-667e-4dcb-e81f-1055a67b4a3e"
      },
      "execution_count": 24,
      "outputs": [
        {
          "output_type": "execute_result",
          "data": {
            "text/plain": [
              "2.0    3307\n",
              "4.0    1420\n",
              "3.0     475\n",
              "6.0     359\n",
              "1.0     300\n",
              "Name: race_o, dtype: int64"
            ]
          },
          "metadata": {},
          "execution_count": 24
        }
      ]
    },
    {
      "cell_type": "code",
      "source": [
        "# drop duplicates\n",
        "df.drop_duplicates(inplace=True)"
      ],
      "metadata": {
        "id": "O4F8hfWXU9Hf"
      },
      "execution_count": 25,
      "outputs": []
    },
    {
      "cell_type": "code",
      "source": [
        "# iterative imputer using KNN"
      ],
      "metadata": {
        "id": "65HXCf6qU-Zm"
      },
      "execution_count": 26,
      "outputs": []
    },
    {
      "cell_type": "code",
      "source": [
        "df.shape"
      ],
      "metadata": {
        "id": "QeLWExewtYLB",
        "colab": {
          "base_uri": "https://localhost:8080/"
        },
        "outputId": "f1e6a712-fd34-43c8-a5a5-b7c933ce10b1"
      },
      "execution_count": 27,
      "outputs": [
        {
          "output_type": "execute_result",
          "data": {
            "text/plain": [
              "(5909, 119)"
            ]
          },
          "metadata": {},
          "execution_count": 27
        }
      ]
    },
    {
      "cell_type": "code",
      "source": [
        "(df.iloc[:,:60].isnull().sum() / df.iloc[:,:60].isnull().count()).sort_values(ascending=False)"
      ],
      "metadata": {
        "colab": {
          "base_uri": "https://localhost:8080/"
        },
        "id": "QuXKg8gIVggC",
        "outputId": "28e66bd9-4da2-4da2-ebbe-d034a993f9ec"
      },
      "execution_count": 28,
      "outputs": [
        {
          "output_type": "execute_result",
          "data": {
            "text/plain": [
              "shar_o      0.133187\n",
              "zipcode     0.121848\n",
              "amb_o       0.086647\n",
              "met_o       0.046539\n",
              "fun_o       0.044847\n",
              "prob_o      0.039770\n",
              "intel_o     0.037231\n",
              "sinc_o      0.035370\n",
              "like_o      0.030970\n",
              "attr_o      0.025893\n",
              "int_corr    0.018446\n",
              "career_c    0.016923\n",
              "pf_o_sha    0.014046\n",
              "pf_o_amb    0.012354\n",
              "date        0.012185\n",
              "exphappy    0.011846\n",
              "pf_o_fun    0.011169\n",
              "age_o       0.011000\n",
              "age         0.010662\n",
              "field_cd    0.009985\n",
              "pf_o_int    0.009985\n",
              "pf_o_sin    0.009985\n",
              "pf_o_att    0.009985\n",
              "imprace     0.009816\n",
              "goal        0.009816\n",
              "go_out      0.009816\n",
              "sports      0.009816\n",
              "tvsports    0.009816\n",
              "exercise    0.009816\n",
              "dining      0.009816\n",
              "from        0.009816\n",
              "museums     0.009816\n",
              "imprelig    0.009816\n",
              "attr1_1     0.009816\n",
              "gaming      0.009816\n",
              "clubbing    0.009816\n",
              "hiking      0.009816\n",
              "reading     0.009816\n",
              "tv          0.009816\n",
              "theater     0.009816\n",
              "movies      0.009816\n",
              "concerts    0.009816\n",
              "music       0.009816\n",
              "shopping    0.009816\n",
              "yoga        0.009816\n",
              "art         0.009816\n",
              "race_o      0.008123\n",
              "field       0.007616\n",
              "race        0.007616\n",
              "pid         0.001354\n",
              "idg         0.000000\n",
              "samerace    0.000000\n",
              "match       0.000000\n",
              "partner     0.000000\n",
              "order       0.000000\n",
              "position    0.000000\n",
              "round       0.000000\n",
              "wave        0.000000\n",
              "condtn      0.000000\n",
              "gender      0.000000\n",
              "dtype: float64"
            ]
          },
          "metadata": {},
          "execution_count": 28
        }
      ]
    },
    {
      "cell_type": "code",
      "source": [
        "df.iloc[:,:60].dtypes"
      ],
      "metadata": {
        "colab": {
          "base_uri": "https://localhost:8080/"
        },
        "id": "1F7IC8JBqDRr",
        "outputId": "9b84914d-6023-40b4-f441-e1fd241a4c91"
      },
      "execution_count": 29,
      "outputs": [
        {
          "output_type": "execute_result",
          "data": {
            "text/plain": [
              "gender        int64\n",
              "idg           int64\n",
              "condtn        int64\n",
              "wave          int64\n",
              "round         int64\n",
              "position      int64\n",
              "order         int64\n",
              "partner       int64\n",
              "pid         float64\n",
              "match         int64\n",
              "int_corr    float64\n",
              "samerace      int64\n",
              "age_o       float64\n",
              "race_o      float64\n",
              "pf_o_att    float64\n",
              "pf_o_sin    float64\n",
              "pf_o_int    float64\n",
              "pf_o_fun    float64\n",
              "pf_o_amb    float64\n",
              "pf_o_sha    float64\n",
              "attr_o      float64\n",
              "sinc_o      float64\n",
              "intel_o     float64\n",
              "fun_o       float64\n",
              "amb_o       float64\n",
              "shar_o      float64\n",
              "like_o      float64\n",
              "prob_o      float64\n",
              "met_o       float64\n",
              "age         float64\n",
              "field        object\n",
              "field_cd    float64\n",
              "race        float64\n",
              "imprace     float64\n",
              "imprelig    float64\n",
              "from         object\n",
              "zipcode      object\n",
              "goal        float64\n",
              "date        float64\n",
              "go_out      float64\n",
              "career_c    float64\n",
              "sports      float64\n",
              "tvsports    float64\n",
              "exercise    float64\n",
              "dining      float64\n",
              "museums     float64\n",
              "art         float64\n",
              "hiking      float64\n",
              "gaming      float64\n",
              "clubbing    float64\n",
              "reading     float64\n",
              "tv          float64\n",
              "theater     float64\n",
              "movies      float64\n",
              "concerts    float64\n",
              "music       float64\n",
              "shopping    float64\n",
              "yoga        float64\n",
              "exphappy    float64\n",
              "attr1_1     float64\n",
              "dtype: object"
            ]
          },
          "metadata": {},
          "execution_count": 29
        }
      ]
    },
    {
      "cell_type": "code",
      "source": [
        "df['career_c'].value_counts()"
      ],
      "metadata": {
        "colab": {
          "base_uri": "https://localhost:8080/"
        },
        "id": "mupD-4KC2Yp4",
        "outputId": "c3f85d4e-b83a-48ba-891a-e1830b28710a"
      },
      "execution_count": 30,
      "outputs": [
        {
          "output_type": "execute_result",
          "data": {
            "text/plain": [
              "2.0     1621\n",
              "7.0     1517\n",
              "6.0      513\n",
              "1.0      466\n",
              "9.0      393\n",
              "4.0      310\n",
              "10.0     278\n",
              "3.0      189\n",
              "5.0      161\n",
              "11.0     155\n",
              "13.0      57\n",
              "15.0      56\n",
              "16.0      30\n",
              "8.0       28\n",
              "12.0      22\n",
              "14.0       7\n",
              "17.0       6\n",
              "Name: career_c, dtype: int64"
            ]
          },
          "metadata": {},
          "execution_count": 30
        }
      ]
    },
    {
      "cell_type": "code",
      "source": [
        "df.iloc[:,60:].dtypes"
      ],
      "metadata": {
        "colab": {
          "base_uri": "https://localhost:8080/"
        },
        "id": "XET3nQ3jyuti",
        "outputId": "88038767-ce26-4308-ae19-261aa4455431"
      },
      "execution_count": 31,
      "outputs": [
        {
          "output_type": "execute_result",
          "data": {
            "text/plain": [
              "sinc1_1     float64\n",
              "intel1_1    float64\n",
              "fun1_1      float64\n",
              "amb1_1      float64\n",
              "shar1_1     float64\n",
              "attr4_1     float64\n",
              "sinc4_1     float64\n",
              "intel4_1    float64\n",
              "fun4_1      float64\n",
              "amb4_1      float64\n",
              "shar4_1     float64\n",
              "attr2_1     float64\n",
              "sinc2_1     float64\n",
              "intel2_1    float64\n",
              "fun2_1      float64\n",
              "amb2_1      float64\n",
              "shar2_1     float64\n",
              "attr3_1     float64\n",
              "sinc3_1     float64\n",
              "fun3_1      float64\n",
              "intel3_1    float64\n",
              "amb3_1      float64\n",
              "attr        float64\n",
              "sinc        float64\n",
              "intel       float64\n",
              "fun         float64\n",
              "amb         float64\n",
              "shar        float64\n",
              "like        float64\n",
              "prob        float64\n",
              "met         float64\n",
              "match_es    float64\n",
              "satis_2     float64\n",
              "length      float64\n",
              "numdat_2    float64\n",
              "attr1_2     float64\n",
              "sinc1_2     float64\n",
              "intel1_2    float64\n",
              "fun1_2      float64\n",
              "amb1_2      float64\n",
              "shar1_2     float64\n",
              "attr4_2     float64\n",
              "sinc4_2     float64\n",
              "intel4_2    float64\n",
              "fun4_2      float64\n",
              "amb4_2      float64\n",
              "shar4_2     float64\n",
              "attr2_2     float64\n",
              "sinc2_2     float64\n",
              "intel2_2    float64\n",
              "fun2_2      float64\n",
              "amb2_2      float64\n",
              "shar2_2     float64\n",
              "attr3_2     float64\n",
              "sinc3_2     float64\n",
              "intel3_2    float64\n",
              "fun3_2      float64\n",
              "amb3_2      float64\n",
              "id            int64\n",
              "dtype: object"
            ]
          },
          "metadata": {},
          "execution_count": 31
        }
      ]
    },
    {
      "cell_type": "code",
      "source": [
        "df['field'].value_counts().head(50)"
      ],
      "metadata": {
        "colab": {
          "base_uri": "https://localhost:8080/"
        },
        "id": "8CbMkHB8y2ru",
        "outputId": "723b88c3-421f-4c3e-ba3e-fe6a38f82704"
      },
      "execution_count": 32,
      "outputs": [
        {
          "output_type": "execute_result",
          "data": {
            "text/plain": [
              "Business                  354\n",
              "MBA                       324\n",
              "Law                       309\n",
              "Social Work               272\n",
              "International Affairs     189\n",
              "Electrical Engineering    120\n",
              "Psychology                 97\n",
              "law                        90\n",
              "business                   82\n",
              "Finance                    81\n",
              "Film                       67\n",
              "Mathematics                66\n",
              "Sociology                  65\n",
              "Biology                    61\n",
              "Engineering                56\n",
              "Clinical Psychology        54\n",
              "Biochemistry               53\n",
              "Business (MBA)             50\n",
              "Economics                  48\n",
              "Political Science          45\n",
              "medicine                   43\n",
              "School Psychology          42\n",
              "Operations Research        40\n",
              "chemistry                  38\n",
              "Physics                    38\n",
              "Education                  38\n",
              "Computer Science           37\n",
              "sociology                  37\n",
              "Mechanical Engineering     36\n",
              "Medicine                   35\n",
              "Genetics                   34\n",
              "Urban Planning             34\n",
              "Biomedical Engineering     33\n",
              "English                    32\n",
              "engineering                30\n",
              "psychology                 30\n",
              "Classics                   29\n",
              "EDUCATION                  27\n",
              "MFA Acting Program         27\n",
              "International affairs      27\n",
              "History                    27\n",
              "MA Biotechnology           26\n",
              "Statistics                 26\n",
              "music education            26\n",
              "Theater                    26\n",
              "Financial Engineering      25\n",
              "Chemistry                  25\n",
              "Education Policy           25\n",
              "Counseling Psychology      25\n",
              "Public Administration      25\n",
              "Name: field, dtype: int64"
            ]
          },
          "metadata": {},
          "execution_count": 32
        }
      ]
    },
    {
      "cell_type": "code",
      "source": [
        "# drop field columns as it is useless\n",
        "df.drop('field', axis=1, inplace=True)"
      ],
      "metadata": {
        "id": "Ce0JMCUjzIfr"
      },
      "execution_count": 33,
      "outputs": []
    },
    {
      "cell_type": "code",
      "source": [
        "test.drop('field', axis=1, inplace=True)"
      ],
      "metadata": {
        "id": "IL3X7-ezzWAy"
      },
      "execution_count": 34,
      "outputs": []
    },
    {
      "cell_type": "code",
      "source": [
        "test['from'].value_counts()"
      ],
      "metadata": {
        "colab": {
          "base_uri": "https://localhost:8080/"
        },
        "id": "9feND74Kz4ki",
        "outputId": "0d8c6392-1482-4af6-b647-3f50b9e0acf6"
      },
      "execution_count": 35,
      "outputs": [
        {
          "output_type": "execute_result",
          "data": {
            "text/plain": [
              "New York                     154\n",
              "New Jersey                   119\n",
              "California                    90\n",
              "Italy                         43\n",
              "New York City                 36\n",
              "                            ... \n",
              "japan                          1\n",
              "Kansas City, Missouri          1\n",
              "TN                             1\n",
              "brooklyn ny                    1\n",
              "Santa Barbara, California      1\n",
              "Name: from, Length: 265, dtype: int64"
            ]
          },
          "metadata": {},
          "execution_count": 35
        }
      ]
    },
    {
      "cell_type": "markdown",
      "source": [
        "####Removing redundant features\n"
      ],
      "metadata": {
        "id": "IjHYvi1q1XLp"
      }
    },
    {
      "cell_type": "markdown",
      "source": [
        "Drop zip code because there is people from USA and other countries so zip code will be useless instead I will use \"from\" columns "
      ],
      "metadata": {
        "id": "Y1_QitRb09yU"
      }
    },
    {
      "cell_type": "code",
      "source": [
        "# drop zip code\n",
        "df.drop('zipcode', axis=1, inplace=True)\n",
        "test.drop('zipcode', axis=1, inplace=True)"
      ],
      "metadata": {
        "id": "4X1i-pfB0MgD"
      },
      "execution_count": 36,
      "outputs": []
    },
    {
      "cell_type": "code",
      "source": [
        ""
      ],
      "metadata": {
        "id": "8UcuBk1Cz_mg"
      },
      "execution_count": 36,
      "outputs": []
    },
    {
      "cell_type": "markdown",
      "source": [
        "convert object column to category of two values\n",
        "\n",
        "1 : from USA\n",
        "\n",
        "2 : others"
      ],
      "metadata": {
        "id": "boi4HFRuAWyI"
      }
    },
    {
      "cell_type": "code",
      "source": [
        "test['from'] = test['from'].str.lower()\n",
        "df['from'] = df['from'].str.lower() "
      ],
      "metadata": {
        "id": "jMZVOTWQCzzZ"
      },
      "execution_count": 37,
      "outputs": []
    },
    {
      "cell_type": "code",
      "source": [
        "test['from'] = test['from'].str.strip()\n",
        "df['from'] = df['from'].str.strip() "
      ],
      "metadata": {
        "id": "91cDUosBHnS3"
      },
      "execution_count": 38,
      "outputs": []
    },
    {
      "cell_type": "code",
      "source": [
        "# replace states of united states with USA\n",
        "test['from'] = test['from'].str.replace('boston', 'USA')\n",
        "test['from'] = test['from'].str.replace('new jersey', 'USA')\n",
        "test['from'] = test['from'].str.replace('USA city', 'USA')\n",
        "test['from'] = test['from'].str.replace(' USA', 'USA')\n",
        "test['from'] = test['from'].str.replace('california', 'USA')\n",
        "test['from'] = test['from'].str.replace('los angeles', 'USA') \n",
        "test['from'] = test['from'].str.replace('USAc', 'USA')\n",
        "test['from'] = test['from'].str.replace('washington', 'USA')\n",
        "test['from'] = test['from'].str.replace('texas', 'USA')\n",
        "test['from'] = test['from'].str.replace('upstateUSA', 'USA')\n",
        "test['from'] = test['from'].str.replace('san francisco', 'USA')\n",
        "test['from'] = test['from'].str.replace('maryland', 'USA')\n",
        "test['from'] = test['from'].str.replace('brooklyn', 'USA')\n",
        "test['from'] = test['from'].str.replace('philadelphia', 'USA')\n",
        "test['from'] = test['from'].str.replace('chicago', 'USA')\n",
        "test['from'] = test['from'].str.replace('long islando', 'USA')\n",
        "test['from'] = test['from'].str.replace('atlanta', 'USA')\n",
        "test['from'] = test['from'].str.replace('miami', 'USA')\n",
        "test['from'] = test['from'].str.replace('connecticut', 'USA')\n",
        "test['from'] = test['from'].str.replace('germaUSA', 'USA')\n",
        "test['from'] = test['from'].str.replace('florida', 'USA')\n",
        "test['from'] = test['from'].str.replace('minnesota', 'USA')\n",
        "test['from'] = test['from'].str.replace('colorado', 'USA')\n",
        "test['from'] = test['from'].str.replace(' USA', 'USA')\n",
        "test['from'] = test['from'].str.replace('USAUSA', 'USA')\n",
        "test['from'] = test['from'].str.replace('ann arbor', 'USA')\n",
        "test['from'] = test['from'].str.replace('pennsylvania', 'USA')\n",
        "test['from'] = test['from'].str.replace('buffalo', 'USA')\n",
        "test['from'] = test['from'].str.replace('cincinnati', 'USA')\n",
        "test['from'] = test['from'].str.replace('michigan', 'USA')\n",
        "test['from'] = test['from'].str.replace('minneapolis', 'USA')\n",
        "test['from'] = test['from'].str.replace('san diego', 'USA')\n",
        "test['from'] = test['from'].str.replace('long island', 'USA')\n",
        "test['from'] = test['from'].str.replace('northernUSA', 'USA')\n",
        "test['from'] = test['from'].str.replace('USAnada', 'USA')\n",
        "test['from'] = test['from'].str.replace('ohio', 'USA')\n",
        "test['from'] = test['from'].str.replace('colombia', 'USA')\n",
        "test['from'] = test['from'].str.replace(' usa', 'USA')\n",
        "test['from'] = test['from'].str.replace('detroit', 'USA')\n",
        "test['from'] = test['from'].str.replace(' d.c.', 'USA')\n",
        "test['from'] = test['from'].str.replace('houston', 'USA')\n",
        "test['from'] = test['from'].str.replace('baltimore', 'USA')\n",
        "test['from'] = test['from'].str.replace('indiana', 'USA')\n",
        "test['from'] = test['from'].str.replace('wisconsin', 'USA')\n",
        "test['from'] = test['from'].str.replace('berkeley', 'USA')\n",
        "test['from'] = test['from'].str.replace('kansas', 'USA')\n",
        "test['from'] = test['from'].str.replace('northUSArolina', 'USA')\n",
        "test['from'] = test['from'].str.replace('new york', 'USA')\n",
        "test['from'] = test['from'].str.replace('new york city', 'USA')\n",
        "test['from'] = test['from'].str.replace('USA,USA', 'USA') \n",
        "test['from'] = test['from'].str.replace('sUSAinA', 'USA')"
      ],
      "metadata": {
        "colab": {
          "base_uri": "https://localhost:8080/"
        },
        "id": "eajyeFSA66Wh",
        "outputId": "584aa9d7-6019-49bd-892e-9b8e7eba01b0"
      },
      "execution_count": 39,
      "outputs": [
        {
          "output_type": "stream",
          "name": "stderr",
          "text": [
            "/usr/local/lib/python3.7/dist-packages/ipykernel_launcher.py:41: FutureWarning: The default value of regex will change from True to False in a future version.\n"
          ]
        }
      ]
    },
    {
      "cell_type": "code",
      "source": [
        "df['from'] = df['from'].str.replace('boston', 'USA') \n",
        "\n",
        "df['from'] = df['from'].str.replace('new jersey', 'USA') \n",
        "\n",
        "df['from'] = df['from'].str.replace('USA city', 'USA') \n",
        "\n",
        "df['from'] = df['from'].str.replace(' USA', 'USA') \n",
        "\n",
        "df['from'] = df['from'].str.replace('california', 'USA') \n",
        "\n",
        "df['from'] = df['from'].str.replace('los angeles', 'USA')  \n",
        "\n",
        "df['from'] = df['from'].str.replace('USAc', 'USA') \n",
        "\n",
        "df['from'] = df['from'].str.replace('washington', 'USA') \n",
        "\n",
        "df['from'] = df['from'].str.replace('texas', 'USA') \n",
        "\n",
        "df['from'] = df['from'].str.replace('upstateUSA', 'USA') \n",
        "\n",
        "df['from'] = df['from'].str.replace('san francisco', 'USA') \n",
        "\n",
        "df['from'] = df['from'].str.replace('maryland', 'USA') \n",
        "\n",
        "df['from'] = df['from'].str.replace('brooklyn', 'USA') \n",
        "\n",
        "df['from'] = df['from'].str.replace('philadelphia', 'USA') \n",
        "\n",
        "df['from'] = df['from'].str.replace('chicago', 'USA') \n",
        "\n",
        "df['from'] = df['from'].str.replace('long islando', 'USA') \n",
        "\n",
        "df['from'] = df['from'].str.replace('atlanta', 'USA') \n",
        "\n",
        "df['from'] = df['from'].str.replace('miami', 'USA') \n",
        "\n",
        "df['from'] = df['from'].str.replace('connecticut', 'USA') \n",
        "\n",
        "df['from'] = df['from'].str.replace('germaUSA', 'USA') \n",
        "\n",
        "df['from'] = df['from'].str.replace('florida', 'USA') \n",
        "\n",
        "df['from'] = df['from'].str.replace('minnesota', 'USA') \n",
        "\n",
        "df['from'] = df['from'].str.replace('colorado', 'USA') \n",
        "\n",
        "df['from'] = df['from'].str.replace(' USA', 'USA') \n",
        "\n",
        "df['from'] = df['from'].str.replace('USAUSA', 'USA') \n",
        "\n",
        "df['from'] = df['from'].str.replace('ann arbor', 'USA') \n",
        "\n",
        "df['from'] = df['from'].str.replace('pennsylvania', 'USA') \n",
        "\n",
        "df['from'] = df['from'].str.replace('buffalo', 'USA') \n",
        "\n",
        "df['from'] = df['from'].str.replace('cincinnati', 'USA') \n",
        "\n",
        "df['from'] = df['from'].str.replace('michigan', 'USA') \n",
        "\n",
        "df['from'] = df['from'].str.replace('minneapolis', 'USA') \n",
        "\n",
        "df['from'] = df['from'].str.replace('san diego', 'USA') \n",
        "\n",
        "df['from'] = df['from'].str.replace('long island', 'USA') \n",
        "\n",
        "df['from'] = df['from'].str.replace('northernUSA', 'USA') \n",
        "\n",
        "df['from'] = df['from'].str.replace('USAnada', 'USA') \n",
        "\n",
        "df['from'] = df['from'].str.replace('ohio', 'USA') \n",
        "\n",
        "df['from'] = df['from'].str.replace('colombia', 'USA') \n",
        "\n",
        "df['from'] = df['from'].str.replace(' usa', 'USA') \n",
        "\n",
        "df['from'] = df['from'].str.replace('detroit', 'USA') \n",
        "\n",
        "df['from'] = df['from'].str.replace(' d.c.', 'USA') \n",
        "\n",
        "df['from'] = df['from'].str.replace('houston', 'USA') \n",
        "\n",
        "df['from'] = df['from'].str.replace('baltimore', 'USA') \n",
        "\n",
        "df['from'] = df['from'].str.replace('indiana', 'USA') \n",
        "\n",
        "df['from'] = df['from'].str.replace('wisconsin', 'USA') \n",
        "\n",
        "df['from'] = df['from'].str.replace('berkeley', 'USA') \n",
        "\n",
        "df['from'] = df['from'].str.replace('kansas', 'USA') \n",
        "\n",
        "df['from'] = df['from'].str.replace('northUSArolina', 'USA') \n",
        "\n",
        "df['from'] = df['from'].str.replace('new york', 'USA') \n",
        "\n",
        "df['from'] = df['from'].str.replace('new york city', 'USA') \n",
        "\n",
        "df['from'] = df['from'].str.replace('USA,USA', 'USA')  \n",
        "\n",
        "df['from'] = df['from'].str.replace('sUSAinA', 'USA') "
      ],
      "metadata": {
        "colab": {
          "base_uri": "https://localhost:8080/"
        },
        "id": "zSPwb2Qm4n0Z",
        "outputId": "7748d5ab-a19e-4529-fd46-ccefcf8313c7"
      },
      "execution_count": 40,
      "outputs": [
        {
          "output_type": "stream",
          "name": "stderr",
          "text": [
            "/usr/local/lib/python3.7/dist-packages/ipykernel_launcher.py:79: FutureWarning: The default value of regex will change from True to False in a future version.\n"
          ]
        }
      ]
    },
    {
      "cell_type": "code",
      "source": [
        "test['from'] = test['from'].str.replace('USA, ny', 'USA') \n",
        "test['from'] = test['from'].str.replace('USA city', 'USA')"
      ],
      "metadata": {
        "id": "BzTNtHBCKzaQ"
      },
      "execution_count": 41,
      "outputs": []
    },
    {
      "cell_type": "code",
      "source": [
        "df['from'] = df['from'].str.replace('USA, ny', 'USA')  \n",
        "df['from'] = df['from'].str.replace('USA city', 'USA') \n",
        "df['from'] = df['from'].str.replace('USA, ma', 'USA')  \n",
        "df['from'] = df['from'].str.replace('nj', 'USA') \n",
        "df['from'] = df['from'].str.replace('USA, dc', 'USA')  \n",
        "df['from'] = df['from'].str.replace('USA, USA', 'USA') "
      ],
      "metadata": {
        "id": "3UIqftP94tV5"
      },
      "execution_count": 42,
      "outputs": []
    },
    {
      "cell_type": "code",
      "source": [
        "test['from'] = test['from'].str.replace('USA, ma', 'USA') \n",
        "test['from'] = test['from'].str.replace('nj', 'USA')\n",
        "test['from'] = test['from'].str.replace('USA, dc', 'USA') \n",
        "test['from'] = test['from'].str.replace('USA, USA', 'USA')"
      ],
      "metadata": {
        "id": "SIVkH5a-LFut"
      },
      "execution_count": 43,
      "outputs": []
    },
    {
      "cell_type": "code",
      "source": [
        "df['from'] = df['from'].str.replace('USA, ga', 'USA')  \n",
        "df['from'] = df['from'].str.replace('USA, ca', 'USA') \n",
        "df['from'] = df['from'].str.replace('USA, dc', 'USA')  \n",
        "df['from'] = df['from'].str.replace('nyc', 'USA') "
      ],
      "metadata": {
        "id": "rK7eNbdP4zh5"
      },
      "execution_count": 44,
      "outputs": []
    },
    {
      "cell_type": "code",
      "source": [
        "test['from'] = test['from'].str.replace('USA, ga', 'USA') \n",
        "test['from'] = test['from'].str.replace('USA, ca', 'USA')\n",
        "test['from'] = test['from'].str.replace('USA, dc', 'USA') \n",
        "test['from'] = test['from'].str.replace('nyc', 'USA')"
      ],
      "metadata": {
        "id": "rhLA_1cILm51"
      },
      "execution_count": 45,
      "outputs": []
    },
    {
      "cell_type": "code",
      "source": [
        "# tranform all non USA to Others\n",
        "df.loc[df['from'] != 'USA', 'from'] = 'Others' "
      ],
      "metadata": {
        "id": "JyTu0uhX46HA"
      },
      "execution_count": 46,
      "outputs": []
    },
    {
      "cell_type": "code",
      "source": [
        "test.loc[test['from'] != 'USA', 'from'] = 'Others'"
      ],
      "metadata": {
        "id": "hT3B7cbLH4Cy"
      },
      "execution_count": 47,
      "outputs": []
    },
    {
      "cell_type": "code",
      "source": [
        "df['from'].value_counts().head(20) "
      ],
      "metadata": {
        "colab": {
          "base_uri": "https://localhost:8080/"
        },
        "id": "ZCJ7wYbB48ER",
        "outputId": "5cf0e13d-ba54-4a8d-f6b2-2f1b42b55efe"
      },
      "execution_count": 48,
      "outputs": [
        {
          "output_type": "execute_result",
          "data": {
            "text/plain": [
              "Others    3106\n",
              "USA       2803\n",
              "Name: from, dtype: int64"
            ]
          },
          "metadata": {},
          "execution_count": 48
        }
      ]
    },
    {
      "cell_type": "code",
      "source": [
        "df['goal'].value_counts().head(20)"
      ],
      "metadata": {
        "colab": {
          "base_uri": "https://localhost:8080/"
        },
        "id": "_5k8PIvBFdqK",
        "outputId": "9bf15a26-e7ae-4875-e6f4-c4a7589ec953"
      },
      "execution_count": 49,
      "outputs": [
        {
          "output_type": "execute_result",
          "data": {
            "text/plain": [
              "1.0    2406\n",
              "2.0    2131\n",
              "3.0     443\n",
              "5.0     369\n",
              "6.0     294\n",
              "4.0     208\n",
              "Name: goal, dtype: int64"
            ]
          },
          "metadata": {},
          "execution_count": 49
        }
      ]
    },
    {
      "cell_type": "code",
      "source": [
        "# convert object columns to category\n",
        "for col_name in df.columns:\n",
        "    if(df[col_name].dtype == 'object'):\n",
        "        df[col_name] = df[col_name].astype('category')\n",
        "        df[col_name] = df[col_name].cat.codes"
      ],
      "metadata": {
        "id": "1LgCDAs-4-wL"
      },
      "execution_count": 50,
      "outputs": []
    },
    {
      "cell_type": "code",
      "source": [
        "# # convert category columns to int  \n",
        "df['from'] = df['from'].astype('int64')"
      ],
      "metadata": {
        "id": "CTzmPvW_2V4q"
      },
      "execution_count": 51,
      "outputs": []
    },
    {
      "cell_type": "code",
      "source": [
        "# convert object columns to category\n",
        "for col_name in test.columns:\n",
        "    if(test[col_name].dtype == 'object'):\n",
        "        test[col_name] = test[col_name].astype('category')\n",
        "        test[col_name] = test[col_name].cat.codes"
      ],
      "metadata": {
        "id": "VUGXjU6NMXUa"
      },
      "execution_count": 52,
      "outputs": []
    },
    {
      "cell_type": "code",
      "source": [
        "# # convert category columns to int  \n",
        "test['from'] = test['from'].astype('int64')"
      ],
      "metadata": {
        "id": "TMNMl0802faK"
      },
      "execution_count": 53,
      "outputs": []
    },
    {
      "cell_type": "code",
      "source": [
        "test['from']"
      ],
      "metadata": {
        "colab": {
          "base_uri": "https://localhost:8080/"
        },
        "id": "ZLrPysza7jng",
        "outputId": "a1bbfbc3-f021-48c8-d333-b1aada1b616b"
      },
      "execution_count": 54,
      "outputs": [
        {
          "output_type": "execute_result",
          "data": {
            "text/plain": [
              "0       0\n",
              "1       1\n",
              "2       1\n",
              "3       1\n",
              "4       1\n",
              "       ..\n",
              "2464    0\n",
              "2465    0\n",
              "2466    1\n",
              "2467    0\n",
              "2468    0\n",
              "Name: from, Length: 2469, dtype: int64"
            ]
          },
          "metadata": {},
          "execution_count": 54
        }
      ]
    },
    {
      "cell_type": "code",
      "source": [
        "test['from']"
      ],
      "metadata": {
        "id": "u8z7CtgZ5WIo",
        "colab": {
          "base_uri": "https://localhost:8080/"
        },
        "outputId": "f1f8a862-18a3-4b38-8a0d-130ee4766b19"
      },
      "execution_count": 55,
      "outputs": [
        {
          "output_type": "execute_result",
          "data": {
            "text/plain": [
              "0       0\n",
              "1       1\n",
              "2       1\n",
              "3       1\n",
              "4       1\n",
              "       ..\n",
              "2464    0\n",
              "2465    0\n",
              "2466    1\n",
              "2467    0\n",
              "2468    0\n",
              "Name: from, Length: 2469, dtype: int64"
            ]
          },
          "metadata": {},
          "execution_count": 55
        }
      ]
    },
    {
      "cell_type": "code",
      "source": [
        "test.drop(['idg'], axis=1, inplace=True)"
      ],
      "metadata": {
        "id": "YEsiO2GdKJaR"
      },
      "execution_count": 56,
      "outputs": []
    },
    {
      "cell_type": "code",
      "source": [
        "#drop useless id columns\n",
        "df.drop(['id', 'idg'], axis=1, inplace=True)"
      ],
      "metadata": {
        "id": "TLYsFpx9JAE2"
      },
      "execution_count": 57,
      "outputs": []
    },
    {
      "cell_type": "code",
      "source": [
        "test.drop(['id'], axis=1, inplace=True)"
      ],
      "metadata": {
        "id": "5sFYdkH9CiZM"
      },
      "execution_count": 58,
      "outputs": []
    },
    {
      "cell_type": "code",
      "source": [
        "test['from'].isnull().sum()"
      ],
      "metadata": {
        "id": "bwxQl9avt2w_",
        "colab": {
          "base_uri": "https://localhost:8080/"
        },
        "outputId": "684326bb-3899-43e1-d4a2-1a6f3a4c1ed7"
      },
      "execution_count": 59,
      "outputs": [
        {
          "output_type": "execute_result",
          "data": {
            "text/plain": [
              "0"
            ]
          },
          "metadata": {},
          "execution_count": 59
        }
      ]
    },
    {
      "cell_type": "code",
      "source": [
        "test.drop('pid', axis=1, inplace=True)"
      ],
      "metadata": {
        "id": "d-JAzIrCK3uw"
      },
      "execution_count": 60,
      "outputs": []
    },
    {
      "cell_type": "code",
      "source": [
        "test['from'].value_counts().tail(60)"
      ],
      "metadata": {
        "id": "9qFbGRGzmPex",
        "colab": {
          "base_uri": "https://localhost:8080/"
        },
        "outputId": "3178211e-dd12-4285-99e8-c751d0d4ecec"
      },
      "execution_count": 61,
      "outputs": [
        {
          "output_type": "execute_result",
          "data": {
            "text/plain": [
              "0    1328\n",
              "1    1141\n",
              "Name: from, dtype: int64"
            ]
          },
          "metadata": {},
          "execution_count": 61
        }
      ]
    },
    {
      "cell_type": "code",
      "source": [
        "df.iloc[:,:58].info()"
      ],
      "metadata": {
        "id": "07AyIRjK5Zrc",
        "colab": {
          "base_uri": "https://localhost:8080/"
        },
        "outputId": "917bf012-619a-4e36-f6b5-33e01bd4425d"
      },
      "execution_count": 62,
      "outputs": [
        {
          "output_type": "stream",
          "name": "stdout",
          "text": [
            "<class 'pandas.core.frame.DataFrame'>\n",
            "Int64Index: 5909 entries, 0 to 5908\n",
            "Data columns (total 58 columns):\n",
            " #   Column    Non-Null Count  Dtype  \n",
            "---  ------    --------------  -----  \n",
            " 0   gender    5909 non-null   int64  \n",
            " 1   condtn    5909 non-null   int64  \n",
            " 2   wave      5909 non-null   int64  \n",
            " 3   round     5909 non-null   int64  \n",
            " 4   position  5909 non-null   int64  \n",
            " 5   order     5909 non-null   int64  \n",
            " 6   partner   5909 non-null   int64  \n",
            " 7   pid       5901 non-null   float64\n",
            " 8   match     5909 non-null   int64  \n",
            " 9   int_corr  5800 non-null   float64\n",
            " 10  samerace  5909 non-null   int64  \n",
            " 11  age_o     5844 non-null   float64\n",
            " 12  race_o    5861 non-null   float64\n",
            " 13  pf_o_att  5850 non-null   float64\n",
            " 14  pf_o_sin  5850 non-null   float64\n",
            " 15  pf_o_int  5850 non-null   float64\n",
            " 16  pf_o_fun  5843 non-null   float64\n",
            " 17  pf_o_amb  5836 non-null   float64\n",
            " 18  pf_o_sha  5826 non-null   float64\n",
            " 19  attr_o    5756 non-null   float64\n",
            " 20  sinc_o    5700 non-null   float64\n",
            " 21  intel_o   5689 non-null   float64\n",
            " 22  fun_o     5644 non-null   float64\n",
            " 23  amb_o     5397 non-null   float64\n",
            " 24  shar_o    5122 non-null   float64\n",
            " 25  like_o    5726 non-null   float64\n",
            " 26  prob_o    5674 non-null   float64\n",
            " 27  met_o     5634 non-null   float64\n",
            " 28  age       5846 non-null   float64\n",
            " 29  field_cd  5850 non-null   float64\n",
            " 30  race      5864 non-null   float64\n",
            " 31  imprace   5851 non-null   float64\n",
            " 32  imprelig  5851 non-null   float64\n",
            " 33  from      5909 non-null   int64  \n",
            " 34  goal      5851 non-null   float64\n",
            " 35  date      5837 non-null   float64\n",
            " 36  go_out    5851 non-null   float64\n",
            " 37  career_c  5809 non-null   float64\n",
            " 38  sports    5851 non-null   float64\n",
            " 39  tvsports  5851 non-null   float64\n",
            " 40  exercise  5851 non-null   float64\n",
            " 41  dining    5851 non-null   float64\n",
            " 42  museums   5851 non-null   float64\n",
            " 43  art       5851 non-null   float64\n",
            " 44  hiking    5851 non-null   float64\n",
            " 45  gaming    5851 non-null   float64\n",
            " 46  clubbing  5851 non-null   float64\n",
            " 47  reading   5851 non-null   float64\n",
            " 48  tv        5851 non-null   float64\n",
            " 49  theater   5851 non-null   float64\n",
            " 50  movies    5851 non-null   float64\n",
            " 51  concerts  5851 non-null   float64\n",
            " 52  music     5851 non-null   float64\n",
            " 53  shopping  5851 non-null   float64\n",
            " 54  yoga      5851 non-null   float64\n",
            " 55  exphappy  5839 non-null   float64\n",
            " 56  attr1_1   5851 non-null   float64\n",
            " 57  sinc1_1   5851 non-null   float64\n",
            "dtypes: float64(48), int64(10)\n",
            "memory usage: 2.7 MB\n"
          ]
        }
      ]
    },
    {
      "cell_type": "code",
      "source": [
        "#drop useless id columns\n",
        "df.drop('pid', axis=1, inplace=True)"
      ],
      "metadata": {
        "id": "qK3NMWFAKx5I"
      },
      "execution_count": 63,
      "outputs": []
    },
    {
      "cell_type": "code",
      "source": [
        "test.iloc[:,:58].info()"
      ],
      "metadata": {
        "colab": {
          "base_uri": "https://localhost:8080/"
        },
        "id": "v-Q0HciHwWBG",
        "outputId": "d3829949-fbc7-4037-e5e7-9c6f1bd8ab26"
      },
      "execution_count": 64,
      "outputs": [
        {
          "output_type": "stream",
          "name": "stdout",
          "text": [
            "<class 'pandas.core.frame.DataFrame'>\n",
            "RangeIndex: 2469 entries, 0 to 2468\n",
            "Data columns (total 58 columns):\n",
            " #   Column    Non-Null Count  Dtype  \n",
            "---  ------    --------------  -----  \n",
            " 0   gender    2469 non-null   int64  \n",
            " 1   condtn    2469 non-null   int64  \n",
            " 2   wave      2469 non-null   int64  \n",
            " 3   round     2469 non-null   int64  \n",
            " 4   position  2469 non-null   int64  \n",
            " 5   order     2469 non-null   int64  \n",
            " 6   partner   2469 non-null   int64  \n",
            " 7   int_corr  2420 non-null   float64\n",
            " 8   samerace  2469 non-null   int64  \n",
            " 9   age_o     2430 non-null   float64\n",
            " 10  race_o    2444 non-null   float64\n",
            " 11  pf_o_att  2439 non-null   float64\n",
            " 12  pf_o_sin  2439 non-null   float64\n",
            " 13  pf_o_int  2439 non-null   float64\n",
            " 14  pf_o_fun  2437 non-null   float64\n",
            " 15  pf_o_amb  2435 non-null   float64\n",
            " 16  pf_o_sha  2423 non-null   float64\n",
            " 17  attr_o    2410 non-null   float64\n",
            " 18  sinc_o    2391 non-null   float64\n",
            " 19  intel_o   2383 non-null   float64\n",
            " 20  fun_o     2374 non-null   float64\n",
            " 21  amb_o     2259 non-null   float64\n",
            " 22  shar_o    2180 non-null   float64\n",
            " 23  like_o    2402 non-null   float64\n",
            " 24  prob_o    2386 non-null   float64\n",
            " 25  met_o     2359 non-null   float64\n",
            " 26  age       2437 non-null   float64\n",
            " 27  field_cd  2446 non-null   float64\n",
            " 28  race      2451 non-null   float64\n",
            " 29  imprace   2448 non-null   float64\n",
            " 30  imprelig  2448 non-null   float64\n",
            " 31  from      2469 non-null   int64  \n",
            " 32  goal      2448 non-null   float64\n",
            " 33  date      2444 non-null   float64\n",
            " 34  go_out    2448 non-null   float64\n",
            " 35  career_c  2431 non-null   float64\n",
            " 36  sports    2448 non-null   float64\n",
            " 37  tvsports  2448 non-null   float64\n",
            " 38  exercise  2448 non-null   float64\n",
            " 39  dining    2448 non-null   float64\n",
            " 40  museums   2448 non-null   float64\n",
            " 41  art       2448 non-null   float64\n",
            " 42  hiking    2448 non-null   float64\n",
            " 43  gaming    2448 non-null   float64\n",
            " 44  clubbing  2448 non-null   float64\n",
            " 45  reading   2448 non-null   float64\n",
            " 46  tv        2448 non-null   float64\n",
            " 47  theater   2448 non-null   float64\n",
            " 48  movies    2448 non-null   float64\n",
            " 49  concerts  2448 non-null   float64\n",
            " 50  music     2448 non-null   float64\n",
            " 51  shopping  2448 non-null   float64\n",
            " 52  yoga      2448 non-null   float64\n",
            " 53  exphappy  2438 non-null   float64\n",
            " 54  attr1_1   2448 non-null   float64\n",
            " 55  sinc1_1   2448 non-null   float64\n",
            " 56  intel1_1  2448 non-null   float64\n",
            " 57  fun1_1    2445 non-null   float64\n",
            "dtypes: float64(49), int64(9)\n",
            "memory usage: 1.1 MB\n"
          ]
        }
      ]
    },
    {
      "cell_type": "markdown",
      "source": [
        "# EDA"
      ],
      "metadata": {
        "id": "LuW0ImGscu4_"
      }
    },
    {
      "cell_type": "code",
      "source": [
        "df.pivot_table('match', index=['gender', 'race'],aggfunc='sum')"
      ],
      "metadata": {
        "id": "LUJddqny5UdU",
        "colab": {
          "base_uri": "https://localhost:8080/",
          "height": 394
        },
        "outputId": "8e52519a-509d-476d-f7e0-5e0a1d0e01cb"
      },
      "execution_count": 65,
      "outputs": [
        {
          "output_type": "execute_result",
          "data": {
            "text/html": [
              "\n",
              "  <div id=\"df-1ef7eede-89af-4fb5-bf1d-9e1556f368d5\">\n",
              "    <div class=\"colab-df-container\">\n",
              "      <div>\n",
              "<style scoped>\n",
              "    .dataframe tbody tr th:only-of-type {\n",
              "        vertical-align: middle;\n",
              "    }\n",
              "\n",
              "    .dataframe tbody tr th {\n",
              "        vertical-align: top;\n",
              "    }\n",
              "\n",
              "    .dataframe thead th {\n",
              "        text-align: right;\n",
              "    }\n",
              "</style>\n",
              "<table border=\"1\" class=\"dataframe\">\n",
              "  <thead>\n",
              "    <tr style=\"text-align: right;\">\n",
              "      <th></th>\n",
              "      <th></th>\n",
              "      <th>match</th>\n",
              "    </tr>\n",
              "    <tr>\n",
              "      <th>gender</th>\n",
              "      <th>race</th>\n",
              "      <th></th>\n",
              "    </tr>\n",
              "  </thead>\n",
              "  <tbody>\n",
              "    <tr>\n",
              "      <th rowspan=\"5\" valign=\"top\">0</th>\n",
              "      <th>1.0</th>\n",
              "      <td>38</td>\n",
              "    </tr>\n",
              "    <tr>\n",
              "      <th>2.0</th>\n",
              "      <td>243</td>\n",
              "    </tr>\n",
              "    <tr>\n",
              "      <th>3.0</th>\n",
              "      <td>56</td>\n",
              "    </tr>\n",
              "    <tr>\n",
              "      <th>4.0</th>\n",
              "      <td>106</td>\n",
              "    </tr>\n",
              "    <tr>\n",
              "      <th>6.0</th>\n",
              "      <td>35</td>\n",
              "    </tr>\n",
              "    <tr>\n",
              "      <th rowspan=\"5\" valign=\"top\">1</th>\n",
              "      <th>1.0</th>\n",
              "      <td>26</td>\n",
              "    </tr>\n",
              "    <tr>\n",
              "      <th>2.0</th>\n",
              "      <td>323</td>\n",
              "    </tr>\n",
              "    <tr>\n",
              "      <th>3.0</th>\n",
              "      <td>34</td>\n",
              "    </tr>\n",
              "    <tr>\n",
              "      <th>4.0</th>\n",
              "      <td>77</td>\n",
              "    </tr>\n",
              "    <tr>\n",
              "      <th>6.0</th>\n",
              "      <td>40</td>\n",
              "    </tr>\n",
              "  </tbody>\n",
              "</table>\n",
              "</div>\n",
              "      <button class=\"colab-df-convert\" onclick=\"convertToInteractive('df-1ef7eede-89af-4fb5-bf1d-9e1556f368d5')\"\n",
              "              title=\"Convert this dataframe to an interactive table.\"\n",
              "              style=\"display:none;\">\n",
              "        \n",
              "  <svg xmlns=\"http://www.w3.org/2000/svg\" height=\"24px\"viewBox=\"0 0 24 24\"\n",
              "       width=\"24px\">\n",
              "    <path d=\"M0 0h24v24H0V0z\" fill=\"none\"/>\n",
              "    <path d=\"M18.56 5.44l.94 2.06.94-2.06 2.06-.94-2.06-.94-.94-2.06-.94 2.06-2.06.94zm-11 1L8.5 8.5l.94-2.06 2.06-.94-2.06-.94L8.5 2.5l-.94 2.06-2.06.94zm10 10l.94 2.06.94-2.06 2.06-.94-2.06-.94-.94-2.06-.94 2.06-2.06.94z\"/><path d=\"M17.41 7.96l-1.37-1.37c-.4-.4-.92-.59-1.43-.59-.52 0-1.04.2-1.43.59L10.3 9.45l-7.72 7.72c-.78.78-.78 2.05 0 2.83L4 21.41c.39.39.9.59 1.41.59.51 0 1.02-.2 1.41-.59l7.78-7.78 2.81-2.81c.8-.78.8-2.07 0-2.86zM5.41 20L4 18.59l7.72-7.72 1.47 1.35L5.41 20z\"/>\n",
              "  </svg>\n",
              "      </button>\n",
              "      \n",
              "  <style>\n",
              "    .colab-df-container {\n",
              "      display:flex;\n",
              "      flex-wrap:wrap;\n",
              "      gap: 12px;\n",
              "    }\n",
              "\n",
              "    .colab-df-convert {\n",
              "      background-color: #E8F0FE;\n",
              "      border: none;\n",
              "      border-radius: 50%;\n",
              "      cursor: pointer;\n",
              "      display: none;\n",
              "      fill: #1967D2;\n",
              "      height: 32px;\n",
              "      padding: 0 0 0 0;\n",
              "      width: 32px;\n",
              "    }\n",
              "\n",
              "    .colab-df-convert:hover {\n",
              "      background-color: #E2EBFA;\n",
              "      box-shadow: 0px 1px 2px rgba(60, 64, 67, 0.3), 0px 1px 3px 1px rgba(60, 64, 67, 0.15);\n",
              "      fill: #174EA6;\n",
              "    }\n",
              "\n",
              "    [theme=dark] .colab-df-convert {\n",
              "      background-color: #3B4455;\n",
              "      fill: #D2E3FC;\n",
              "    }\n",
              "\n",
              "    [theme=dark] .colab-df-convert:hover {\n",
              "      background-color: #434B5C;\n",
              "      box-shadow: 0px 1px 3px 1px rgba(0, 0, 0, 0.15);\n",
              "      filter: drop-shadow(0px 1px 2px rgba(0, 0, 0, 0.3));\n",
              "      fill: #FFFFFF;\n",
              "    }\n",
              "  </style>\n",
              "\n",
              "      <script>\n",
              "        const buttonEl =\n",
              "          document.querySelector('#df-1ef7eede-89af-4fb5-bf1d-9e1556f368d5 button.colab-df-convert');\n",
              "        buttonEl.style.display =\n",
              "          google.colab.kernel.accessAllowed ? 'block' : 'none';\n",
              "\n",
              "        async function convertToInteractive(key) {\n",
              "          const element = document.querySelector('#df-1ef7eede-89af-4fb5-bf1d-9e1556f368d5');\n",
              "          const dataTable =\n",
              "            await google.colab.kernel.invokeFunction('convertToInteractive',\n",
              "                                                     [key], {});\n",
              "          if (!dataTable) return;\n",
              "\n",
              "          const docLinkHtml = 'Like what you see? Visit the ' +\n",
              "            '<a target=\"_blank\" href=https://colab.research.google.com/notebooks/data_table.ipynb>data table notebook</a>'\n",
              "            + ' to learn more about interactive tables.';\n",
              "          element.innerHTML = '';\n",
              "          dataTable['output_type'] = 'display_data';\n",
              "          await google.colab.output.renderOutput(dataTable, element);\n",
              "          const docLink = document.createElement('div');\n",
              "          docLink.innerHTML = docLinkHtml;\n",
              "          element.appendChild(docLink);\n",
              "        }\n",
              "      </script>\n",
              "    </div>\n",
              "  </div>\n",
              "  "
            ],
            "text/plain": [
              "             match\n",
              "gender race       \n",
              "0      1.0      38\n",
              "       2.0     243\n",
              "       3.0      56\n",
              "       4.0     106\n",
              "       6.0      35\n",
              "1      1.0      26\n",
              "       2.0     323\n",
              "       3.0      34\n",
              "       4.0      77\n",
              "       6.0      40"
            ]
          },
          "metadata": {},
          "execution_count": 65
        }
      ]
    },
    {
      "cell_type": "code",
      "source": [
        "avg_age_by_class = df.pivot_table('age', index='race')\n",
        "avg_age_by_class.plot(kind='bar', title= 'Mean Age per Class', rot=0)"
      ],
      "metadata": {
        "colab": {
          "base_uri": "https://localhost:8080/",
          "height": 312
        },
        "id": "6mEfEdrdVzd8",
        "outputId": "752c5174-f961-4f0f-95bd-2bc55c9af81a"
      },
      "execution_count": 66,
      "outputs": [
        {
          "output_type": "execute_result",
          "data": {
            "text/plain": [
              "<matplotlib.axes._subplots.AxesSubplot at 0x7f5d4a341810>"
            ]
          },
          "metadata": {},
          "execution_count": 66
        },
        {
          "output_type": "display_data",
          "data": {
            "image/png": "[encoded data removed]",
            "text/plain": [
              "<Figure size 432x288 with 1 Axes>"
            ]
          },
          "metadata": {
            "needs_background": "light"
          }
        }
      ]
    },
    {
      "cell_type": "code",
      "source": [
        "df.groupby('career_c')['age'].agg({'mean'})"
      ],
      "metadata": {
        "colab": {
          "base_uri": "https://localhost:8080/",
          "height": 614
        },
        "id": "H9qTFbmAct2I",
        "outputId": "d7ba0be6-47d2-4c84-af1b-b7a9be719a9d"
      },
      "execution_count": 67,
      "outputs": [
        {
          "output_type": "execute_result",
          "data": {
            "text/html": [
              "\n",
              "  <div id=\"df-33273d76-cd48-4a96-8f20-51035b54f90a\">\n",
              "    <div class=\"colab-df-container\">\n",
              "      <div>\n",
              "<style scoped>\n",
              "    .dataframe tbody tr th:only-of-type {\n",
              "        vertical-align: middle;\n",
              "    }\n",
              "\n",
              "    .dataframe tbody tr th {\n",
              "        vertical-align: top;\n",
              "    }\n",
              "\n",
              "    .dataframe thead th {\n",
              "        text-align: right;\n",
              "    }\n",
              "</style>\n",
              "<table border=\"1\" class=\"dataframe\">\n",
              "  <thead>\n",
              "    <tr style=\"text-align: right;\">\n",
              "      <th></th>\n",
              "      <th>mean</th>\n",
              "    </tr>\n",
              "    <tr>\n",
              "      <th>career_c</th>\n",
              "      <th></th>\n",
              "    </tr>\n",
              "  </thead>\n",
              "  <tbody>\n",
              "    <tr>\n",
              "      <th>1.0</th>\n",
              "      <td>24.354077</td>\n",
              "    </tr>\n",
              "    <tr>\n",
              "      <th>2.0</th>\n",
              "      <td>26.789019</td>\n",
              "    </tr>\n",
              "    <tr>\n",
              "      <th>3.0</th>\n",
              "      <td>24.338624</td>\n",
              "    </tr>\n",
              "    <tr>\n",
              "      <th>4.0</th>\n",
              "      <td>26.658065</td>\n",
              "    </tr>\n",
              "    <tr>\n",
              "      <th>5.0</th>\n",
              "      <td>24.813665</td>\n",
              "    </tr>\n",
              "    <tr>\n",
              "      <th>6.0</th>\n",
              "      <td>26.650699</td>\n",
              "    </tr>\n",
              "    <tr>\n",
              "      <th>7.0</th>\n",
              "      <td>27.315685</td>\n",
              "    </tr>\n",
              "    <tr>\n",
              "      <th>8.0</th>\n",
              "      <td>27.285714</td>\n",
              "    </tr>\n",
              "    <tr>\n",
              "      <th>9.0</th>\n",
              "      <td>26.325700</td>\n",
              "    </tr>\n",
              "    <tr>\n",
              "      <th>10.0</th>\n",
              "      <td>24.769784</td>\n",
              "    </tr>\n",
              "    <tr>\n",
              "      <th>11.0</th>\n",
              "      <td>24.541935</td>\n",
              "    </tr>\n",
              "    <tr>\n",
              "      <th>12.0</th>\n",
              "      <td>24.500000</td>\n",
              "    </tr>\n",
              "    <tr>\n",
              "      <th>13.0</th>\n",
              "      <td>24.824561</td>\n",
              "    </tr>\n",
              "    <tr>\n",
              "      <th>14.0</th>\n",
              "      <td>21.000000</td>\n",
              "    </tr>\n",
              "    <tr>\n",
              "      <th>15.0</th>\n",
              "      <td>28.696429</td>\n",
              "    </tr>\n",
              "    <tr>\n",
              "      <th>16.0</th>\n",
              "      <td>25.166667</td>\n",
              "    </tr>\n",
              "    <tr>\n",
              "      <th>17.0</th>\n",
              "      <td>25.000000</td>\n",
              "    </tr>\n",
              "  </tbody>\n",
              "</table>\n",
              "</div>\n",
              "      <button class=\"colab-df-convert\" onclick=\"convertToInteractive('df-33273d76-cd48-4a96-8f20-51035b54f90a')\"\n",
              "              title=\"Convert this dataframe to an interactive table.\"\n",
              "              style=\"display:none;\">\n",
              "        \n",
              "  <svg xmlns=\"http://www.w3.org/2000/svg\" height=\"24px\"viewBox=\"0 0 24 24\"\n",
              "       width=\"24px\">\n",
              "    <path d=\"M0 0h24v24H0V0z\" fill=\"none\"/>\n",
              "    <path d=\"M18.56 5.44l.94 2.06.94-2.06 2.06-.94-2.06-.94-.94-2.06-.94 2.06-2.06.94zm-11 1L8.5 8.5l.94-2.06 2.06-.94-2.06-.94L8.5 2.5l-.94 2.06-2.06.94zm10 10l.94 2.06.94-2.06 2.06-.94-2.06-.94-.94-2.06-.94 2.06-2.06.94z\"/><path d=\"M17.41 7.96l-1.37-1.37c-.4-.4-.92-.59-1.43-.59-.52 0-1.04.2-1.43.59L10.3 9.45l-7.72 7.72c-.78.78-.78 2.05 0 2.83L4 21.41c.39.39.9.59 1.41.59.51 0 1.02-.2 1.41-.59l7.78-7.78 2.81-2.81c.8-.78.8-2.07 0-2.86zM5.41 20L4 18.59l7.72-7.72 1.47 1.35L5.41 20z\"/>\n",
              "  </svg>\n",
              "      </button>\n",
              "      \n",
              "  <style>\n",
              "    .colab-df-container {\n",
              "      display:flex;\n",
              "      flex-wrap:wrap;\n",
              "      gap: 12px;\n",
              "    }\n",
              "\n",
              "    .colab-df-convert {\n",
              "      background-color: #E8F0FE;\n",
              "      border: none;\n",
              "      border-radius: 50%;\n",
              "      cursor: pointer;\n",
              "      display: none;\n",
              "      fill: #1967D2;\n",
              "      height: 32px;\n",
              "      padding: 0 0 0 0;\n",
              "      width: 32px;\n",
              "    }\n",
              "\n",
              "    .colab-df-convert:hover {\n",
              "      background-color: #E2EBFA;\n",
              "      box-shadow: 0px 1px 2px rgba(60, 64, 67, 0.3), 0px 1px 3px 1px rgba(60, 64, 67, 0.15);\n",
              "      fill: #174EA6;\n",
              "    }\n",
              "\n",
              "    [theme=dark] .colab-df-convert {\n",
              "      background-color: #3B4455;\n",
              "      fill: #D2E3FC;\n",
              "    }\n",
              "\n",
              "    [theme=dark] .colab-df-convert:hover {\n",
              "      background-color: #434B5C;\n",
              "      box-shadow: 0px 1px 3px 1px rgba(0, 0, 0, 0.15);\n",
              "      filter: drop-shadow(0px 1px 2px rgba(0, 0, 0, 0.3));\n",
              "      fill: #FFFFFF;\n",
              "    }\n",
              "  </style>\n",
              "\n",
              "      <script>\n",
              "        const buttonEl =\n",
              "          document.querySelector('#df-33273d76-cd48-4a96-8f20-51035b54f90a button.colab-df-convert');\n",
              "        buttonEl.style.display =\n",
              "          google.colab.kernel.accessAllowed ? 'block' : 'none';\n",
              "\n",
              "        async function convertToInteractive(key) {\n",
              "          const element = document.querySelector('#df-33273d76-cd48-4a96-8f20-51035b54f90a');\n",
              "          const dataTable =\n",
              "            await google.colab.kernel.invokeFunction('convertToInteractive',\n",
              "                                                     [key], {});\n",
              "          if (!dataTable) return;\n",
              "\n",
              "          const docLinkHtml = 'Like what you see? Visit the ' +\n",
              "            '<a target=\"_blank\" href=https://colab.research.google.com/notebooks/data_table.ipynb>data table notebook</a>'\n",
              "            + ' to learn more about interactive tables.';\n",
              "          element.innerHTML = '';\n",
              "          dataTable['output_type'] = 'display_data';\n",
              "          await google.colab.output.renderOutput(dataTable, element);\n",
              "          const docLink = document.createElement('div');\n",
              "          docLink.innerHTML = docLinkHtml;\n",
              "          element.appendChild(docLink);\n",
              "        }\n",
              "      </script>\n",
              "    </div>\n",
              "  </div>\n",
              "  "
            ],
            "text/plain": [
              "               mean\n",
              "career_c           \n",
              "1.0       24.354077\n",
              "2.0       26.789019\n",
              "3.0       24.338624\n",
              "4.0       26.658065\n",
              "5.0       24.813665\n",
              "6.0       26.650699\n",
              "7.0       27.315685\n",
              "8.0       27.285714\n",
              "9.0       26.325700\n",
              "10.0      24.769784\n",
              "11.0      24.541935\n",
              "12.0      24.500000\n",
              "13.0      24.824561\n",
              "14.0      21.000000\n",
              "15.0      28.696429\n",
              "16.0      25.166667\n",
              "17.0      25.000000"
            ]
          },
          "metadata": {},
          "execution_count": 67
        }
      ]
    },
    {
      "cell_type": "code",
      "source": [
        "df.groupby('gender')['age'].agg({'mean'})"
      ],
      "metadata": {
        "colab": {
          "base_uri": "https://localhost:8080/",
          "height": 143
        },
        "id": "a6m8Q5WJYp5d",
        "outputId": "9f095dbc-220b-406b-fa1d-619d111e1afa"
      },
      "execution_count": 68,
      "outputs": [
        {
          "output_type": "execute_result",
          "data": {
            "text/html": [
              "\n",
              "  <div id=\"df-bb08d426-35e9-4b67-a6ef-ab9979e00bc6\">\n",
              "    <div class=\"colab-df-container\">\n",
              "      <div>\n",
              "<style scoped>\n",
              "    .dataframe tbody tr th:only-of-type {\n",
              "        vertical-align: middle;\n",
              "    }\n",
              "\n",
              "    .dataframe tbody tr th {\n",
              "        vertical-align: top;\n",
              "    }\n",
              "\n",
              "    .dataframe thead th {\n",
              "        text-align: right;\n",
              "    }\n",
              "</style>\n",
              "<table border=\"1\" class=\"dataframe\">\n",
              "  <thead>\n",
              "    <tr style=\"text-align: right;\">\n",
              "      <th></th>\n",
              "      <th>mean</th>\n",
              "    </tr>\n",
              "    <tr>\n",
              "      <th>gender</th>\n",
              "      <th></th>\n",
              "    </tr>\n",
              "  </thead>\n",
              "  <tbody>\n",
              "    <tr>\n",
              "      <th>0</th>\n",
              "      <td>26.087530</td>\n",
              "    </tr>\n",
              "    <tr>\n",
              "      <th>1</th>\n",
              "      <td>26.587125</td>\n",
              "    </tr>\n",
              "  </tbody>\n",
              "</table>\n",
              "</div>\n",
              "      <button class=\"colab-df-convert\" onclick=\"convertToInteractive('df-bb08d426-35e9-4b67-a6ef-ab9979e00bc6')\"\n",
              "              title=\"Convert this dataframe to an interactive table.\"\n",
              "              style=\"display:none;\">\n",
              "        \n",
              "  <svg xmlns=\"http://www.w3.org/2000/svg\" height=\"24px\"viewBox=\"0 0 24 24\"\n",
              "       width=\"24px\">\n",
              "    <path d=\"M0 0h24v24H0V0z\" fill=\"none\"/>\n",
              "    <path d=\"M18.56 5.44l.94 2.06.94-2.06 2.06-.94-2.06-.94-.94-2.06-.94 2.06-2.06.94zm-11 1L8.5 8.5l.94-2.06 2.06-.94-2.06-.94L8.5 2.5l-.94 2.06-2.06.94zm10 10l.94 2.06.94-2.06 2.06-.94-2.06-.94-.94-2.06-.94 2.06-2.06.94z\"/><path d=\"M17.41 7.96l-1.37-1.37c-.4-.4-.92-.59-1.43-.59-.52 0-1.04.2-1.43.59L10.3 9.45l-7.72 7.72c-.78.78-.78 2.05 0 2.83L4 21.41c.39.39.9.59 1.41.59.51 0 1.02-.2 1.41-.59l7.78-7.78 2.81-2.81c.8-.78.8-2.07 0-2.86zM5.41 20L4 18.59l7.72-7.72 1.47 1.35L5.41 20z\"/>\n",
              "  </svg>\n",
              "      </button>\n",
              "      \n",
              "  <style>\n",
              "    .colab-df-container {\n",
              "      display:flex;\n",
              "      flex-wrap:wrap;\n",
              "      gap: 12px;\n",
              "    }\n",
              "\n",
              "    .colab-df-convert {\n",
              "      background-color: #E8F0FE;\n",
              "      border: none;\n",
              "      border-radius: 50%;\n",
              "      cursor: pointer;\n",
              "      display: none;\n",
              "      fill: #1967D2;\n",
              "      height: 32px;\n",
              "      padding: 0 0 0 0;\n",
              "      width: 32px;\n",
              "    }\n",
              "\n",
              "    .colab-df-convert:hover {\n",
              "      background-color: #E2EBFA;\n",
              "      box-shadow: 0px 1px 2px rgba(60, 64, 67, 0.3), 0px 1px 3px 1px rgba(60, 64, 67, 0.15);\n",
              "      fill: #174EA6;\n",
              "    }\n",
              "\n",
              "    [theme=dark] .colab-df-convert {\n",
              "      background-color: #3B4455;\n",
              "      fill: #D2E3FC;\n",
              "    }\n",
              "\n",
              "    [theme=dark] .colab-df-convert:hover {\n",
              "      background-color: #434B5C;\n",
              "      box-shadow: 0px 1px 3px 1px rgba(0, 0, 0, 0.15);\n",
              "      filter: drop-shadow(0px 1px 2px rgba(0, 0, 0, 0.3));\n",
              "      fill: #FFFFFF;\n",
              "    }\n",
              "  </style>\n",
              "\n",
              "      <script>\n",
              "        const buttonEl =\n",
              "          document.querySelector('#df-bb08d426-35e9-4b67-a6ef-ab9979e00bc6 button.colab-df-convert');\n",
              "        buttonEl.style.display =\n",
              "          google.colab.kernel.accessAllowed ? 'block' : 'none';\n",
              "\n",
              "        async function convertToInteractive(key) {\n",
              "          const element = document.querySelector('#df-bb08d426-35e9-4b67-a6ef-ab9979e00bc6');\n",
              "          const dataTable =\n",
              "            await google.colab.kernel.invokeFunction('convertToInteractive',\n",
              "                                                     [key], {});\n",
              "          if (!dataTable) return;\n",
              "\n",
              "          const docLinkHtml = 'Like what you see? Visit the ' +\n",
              "            '<a target=\"_blank\" href=https://colab.research.google.com/notebooks/data_table.ipynb>data table notebook</a>'\n",
              "            + ' to learn more about interactive tables.';\n",
              "          element.innerHTML = '';\n",
              "          dataTable['output_type'] = 'display_data';\n",
              "          await google.colab.output.renderOutput(dataTable, element);\n",
              "          const docLink = document.createElement('div');\n",
              "          docLink.innerHTML = docLinkHtml;\n",
              "          element.appendChild(docLink);\n",
              "        }\n",
              "      </script>\n",
              "    </div>\n",
              "  </div>\n",
              "  "
            ],
            "text/plain": [
              "             mean\n",
              "gender           \n",
              "0       26.087530\n",
              "1       26.587125"
            ]
          },
          "metadata": {},
          "execution_count": 68
        }
      ]
    },
    {
      "cell_type": "code",
      "source": [
        "# date and age\n",
        "import seaborn as sns\n",
        "import matplotlib.pyplot as plt\n",
        "sns.set_theme(style=\"ticks\", color_codes=True)\n",
        "\n",
        "sns.catplot(x=\"date\", y=\"age\", data=df)"
      ],
      "metadata": {
        "colab": {
          "base_uri": "https://localhost:8080/",
          "height": 382
        },
        "id": "s6vLcS_vct53",
        "outputId": "810d5fd6-99de-4824-f851-4eb3fd5f161d"
      },
      "execution_count": 69,
      "outputs": [
        {
          "output_type": "execute_result",
          "data": {
            "text/plain": [
              "<seaborn.axisgrid.FacetGrid at 0x7f5d4a203e10>"
            ]
          },
          "metadata": {},
          "execution_count": 69
        },
        {
          "output_type": "display_data",
          "data": {
            "image/png": "[encoded data removed]",
            "text/plain": [
              "<Figure size 360x360 with 1 Axes>"
            ]
          },
          "metadata": {}
        }
      ]
    },
    {
      "cell_type": "code",
      "source": [
        "df[['attr4_1','sinc4_1', 'intel4_1', 'fun4_1', 'amb4_1','shar4_1']].plot(kind='box')"
      ],
      "metadata": {
        "colab": {
          "base_uri": "https://localhost:8080/",
          "height": 341
        },
        "id": "xtlVURciXZIr",
        "outputId": "ce3d6010-e63a-4101-94c7-5c8bb08775ae"
      },
      "execution_count": 70,
      "outputs": [
        {
          "output_type": "stream",
          "name": "stderr",
          "text": [
            "/usr/local/lib/python3.7/dist-packages/matplotlib/cbook/__init__.py:1376: VisibleDeprecationWarning: Creating an ndarray from ragged nested sequences (which is a list-or-tuple of lists-or-tuples-or ndarrays with different lengths or shapes) is deprecated. If you meant to do this, you must specify 'dtype=object' when creating the ndarray.\n",
            "  X = np.atleast_1d(X.T if isinstance(X, np.ndarray) else np.asarray(X))\n"
          ]
        },
        {
          "output_type": "execute_result",
          "data": {
            "text/plain": [
              "<matplotlib.axes._subplots.AxesSubplot at 0x7f5d38a7bf10>"
            ]
          },
          "metadata": {},
          "execution_count": 70
        },
        {
          "output_type": "display_data",
          "data": {
            "image/png": "[encoded data removed]",
            "text/plain": [
              "<Figure size 432x288 with 1 Axes>"
            ]
          },
          "metadata": {}
        }
      ]
    },
    {
      "cell_type": "code",
      "source": [
        ""
      ],
      "metadata": {
        "id": "-CXewOeVct9S"
      },
      "execution_count": 70,
      "outputs": []
    },
    {
      "cell_type": "code",
      "source": [
        "# check missing values\n",
        "df['match'].isnull().sum()"
      ],
      "metadata": {
        "colab": {
          "base_uri": "https://localhost:8080/"
        },
        "id": "digmLzF6cuAu",
        "outputId": "1fe66f47-4f58-430c-aabb-117355339d47"
      },
      "execution_count": 71,
      "outputs": [
        {
          "output_type": "execute_result",
          "data": {
            "text/plain": [
              "0"
            ]
          },
          "metadata": {},
          "execution_count": 71
        }
      ]
    },
    {
      "cell_type": "code",
      "source": [
        "y= df['match']\n",
        "df.drop('match', axis=1, inplace=True)"
      ],
      "metadata": {
        "id": "CoF3vrndcuEV"
      },
      "execution_count": 72,
      "outputs": []
    },
    {
      "cell_type": "markdown",
      "source": [
        "###building Pipeline"
      ],
      "metadata": {
        "id": "fQP1Gs-TMJ6P"
      }
    },
    {
      "cell_type": "markdown",
      "source": [
        "### Trial 1\n",
        "I have tried to get rid of columns with more than 75% missing values and imput the rest columns with most frequent values in thier columns \n",
        "and I have used RandomForestClassifier as it is good at high dimensional data "
      ],
      "metadata": {
        "id": "sI5ND2crUXfO"
      }
    },
    {
      "cell_type": "code",
      "source": [
        "from sklearn.impute import SimpleImputer, KNNImputer\n",
        "from sklearn.ensemble import RandomForestClassifier, GradientBoostingClassifier\n",
        "from sklearn.compose import ColumnTransformer\n",
        "from sklearn.pipeline import Pipeline\n",
        "from sklearn.preprocessing import StandardScaler\n",
        "from sklearn.model_selection import GridSearchCV\n",
        "from xgboost.sklearn import XGBClassifier\n",
        "from sklearn.decomposition import PCA \n",
        "\n",
        "\n",
        "# replace with most_frequent from training set\n",
        "transformer_numeric = Pipeline(\n",
        "    steps=[\n",
        "        ('imputer', SimpleImputer()),\n",
        "        ('scaler', StandardScaler())\n",
        "        ]\n",
        ")\n",
        "col_df = df.select_dtypes(include=np.number).columns\n",
        "\n",
        "preprocessor = ColumnTransformer(\n",
        "    transformers=[\n",
        "        ('num', transformer_numeric, col_df)])\n",
        "\n",
        "full_pipline = Pipeline(\n",
        "    steps=[\n",
        "        ('preprocessor', preprocessor),\n",
        "        ('my_classifier', \n",
        "           RandomForestClassifier(),\n",
        "        )\n",
        "    ]\n",
        ")\n"
      ],
      "metadata": {
        "id": "R5w1--uPXFMR"
      },
      "execution_count": 73,
      "outputs": []
    },
    {
      "cell_type": "code",
      "source": [
        "full_pipline"
      ],
      "metadata": {
        "id": "Oc6C2OBVrQbM",
        "colab": {
          "base_uri": "https://localhost:8080/"
        },
        "outputId": "c8fba29a-88d5-40c2-9669-dfd0abec40e8"
      },
      "execution_count": 74,
      "outputs": [
        {
          "output_type": "execute_result",
          "data": {
            "text/plain": [
              "Pipeline(steps=[('preprocessor',\n",
              "                 ColumnTransformer(transformers=[('num',\n",
              "                                                  Pipeline(steps=[('imputer',\n",
              "                                                                   SimpleImputer()),\n",
              "                                                                  ('scaler',\n",
              "                                                                   StandardScaler())]),\n",
              "                                                  Index(['gender', 'condtn', 'wave', 'round', 'position', 'order', 'partner',\n",
              "       'int_corr', 'samerace', 'age_o',\n",
              "       ...\n",
              "       'sinc2_2', 'intel2_2', 'fun2_2', 'amb2_2', 'shar2_2', 'attr3_2',\n",
              "       'sinc3_2', 'intel3_2', 'fun3_2', 'amb3_2'],\n",
              "      dtype='object', length=113))])),\n",
              "                ('my_classifier', RandomForestClassifier())])"
            ]
          },
          "metadata": {},
          "execution_count": 74
        }
      ]
    },
    {
      "cell_type": "code",
      "source": [
        "full_pipline = full_pipline.fit(df, y)\n",
        "full_pipline.predict(test)"
      ],
      "metadata": {
        "id": "QkMx5EyfuNvM",
        "colab": {
          "base_uri": "https://localhost:8080/"
        },
        "outputId": "61b6428e-6edf-4a41-b96e-ca9e04b9c21f"
      },
      "execution_count": 75,
      "outputs": [
        {
          "output_type": "execute_result",
          "data": {
            "text/plain": [
              "array([0, 0, 0, ..., 0, 0, 0])"
            ]
          },
          "metadata": {},
          "execution_count": 75
        }
      ]
    },
    {
      "cell_type": "code",
      "source": [
        "param_grid = {\n",
        "    'preprocessor__num__imputer__strategy': ['mean'],\n",
        "    # preprocessor__num__imputer__strategy points to preprocessor->num (a Pipeline)-> imputer -> strategy\n",
        "    'my_classifier__n_estimators': [20, 30, 40],  \n",
        "     # my_classifier__n_estimators points to my_classifier->n_estimators \n",
        "    'my_classifier__max_depth':[10, 20, 30]       \n",
        "}\n",
        "\n",
        "# cv=2 means two-fold cross-validation\n",
        "# n_jobs means the cucurrent number of jobs\n",
        "# (on colab since we only have two cpu cores, we set it to 2)\n",
        "grid_search = GridSearchCV(\n",
        "    full_pipline, param_grid, cv=2, verbose=1, n_jobs=2, \n",
        "    scoring='roc_auc')\n",
        "\n",
        "grid_search.fit(df, y)\n",
        "\n",
        "print('best score {}'.format(grid_search.best_score_))\n",
        "print('best score {}'.format(grid_search.best_params_))"
      ],
      "metadata": {
        "colab": {
          "base_uri": "https://localhost:8080/"
        },
        "id": "E8Avb7U5RAn0",
        "outputId": "01a311b1-81eb-463d-bea2-96d229ff6794"
      },
      "execution_count": 76,
      "outputs": [
        {
          "output_type": "stream",
          "name": "stdout",
          "text": [
            "Fitting 2 folds for each of 9 candidates, totalling 18 fits\n",
            "best score 0.8448586583399094\n",
            "best score {'my_classifier__max_depth': 10, 'my_classifier__n_estimators': 40, 'preprocessor__num__imputer__strategy': 'mean'}\n"
          ]
        }
      ]
    },
    {
      "cell_type": "markdown",
      "source": [
        "#### Trial 2"
      ],
      "metadata": {
        "id": "X7h4XPjWlyxb"
      }
    },
    {
      "cell_type": "markdown",
      "source": [
        "I would use the same model, the same parameters and range of these \n",
        "\n",
        "parameters' values but changing imputer strategy to most frequent  "
      ],
      "metadata": {
        "id": "ky-2iIivmCUf"
      }
    },
    {
      "cell_type": "code",
      "source": [
        "param_grid_most = {\n",
        "    'preprocessor__num__imputer__strategy': ['most_frequent'],\n",
        "    # preprocessor__num__imputer__strategy points to preprocessor->num (a Pipeline)-> imputer -> strategy\n",
        "    'my_classifier__n_estimators': [20, 30, 40],  \n",
        "     # my_classifier__n_estimators points to my_classifier->n_estimators \n",
        "    'my_classifier__max_depth':[10, 20, 30]       \n",
        "}\n",
        "\n",
        "# cv=2 means two-fold cross-validation\n",
        "# n_jobs means the cucurrent number of jobs\n",
        "# (on colab since we only have two cpu cores, we set it to 2)\n",
        "grid_search_most = GridSearchCV(\n",
        "    full_pipline, param_grid_most, cv=2, verbose=1, n_jobs=2, \n",
        "    scoring='roc_auc')\n",
        "\n",
        "grid_search_most.fit(df, y)\n",
        "\n",
        "print('best score {}'.format(grid_search_most.best_score_))\n",
        "print('best score {}'.format(grid_search_most.best_params_))"
      ],
      "metadata": {
        "colab": {
          "base_uri": "https://localhost:8080/"
        },
        "id": "n4arlWSAlx2c",
        "outputId": "574bd323-1a93-4c7a-9346-db1e2119f393"
      },
      "execution_count": 77,
      "outputs": [
        {
          "output_type": "stream",
          "name": "stdout",
          "text": [
            "Fitting 2 folds for each of 9 candidates, totalling 18 fits\n",
            "best score 0.8455417146971373\n",
            "best score {'my_classifier__max_depth': 10, 'my_classifier__n_estimators': 40, 'preprocessor__num__imputer__strategy': 'most_frequent'}\n"
          ]
        }
      ]
    },
    {
      "cell_type": "markdown",
      "source": [
        "### Trial 3"
      ],
      "metadata": {
        "id": "nEaJK886VJvb"
      }
    },
    {
      "cell_type": "markdown",
      "source": [
        "using different model XGBoost, as random forest did a good job \n",
        "\n",
        "but I think XGBoost maybe perfrom even better and using 5 fold instead of 2"
      ],
      "metadata": {
        "id": "-8EqrmWSmwno"
      }
    },
    {
      "cell_type": "markdown",
      "source": [
        "[XGBoost & Hyper-parameter Tuning](https://www.kaggle.com/rohansadale/xgbclassifier-and-randomforest-in-python)"
      ],
      "metadata": {
        "id": "8Mza7i625eMB"
      }
    },
    {
      "cell_type": "code",
      "source": [
        "from xgboost.sklearn import XGBClassifier"
      ],
      "metadata": {
        "id": "-oS2nxaDnZh6"
      },
      "execution_count": 78,
      "outputs": []
    },
    {
      "cell_type": "code",
      "source": [
        "xgb_pipline = Pipeline(\n",
        "    steps=[\n",
        "        ('preprocessor', preprocessor),\n",
        "        ('my_classifier', \n",
        "           XGBClassifier(),\n",
        "        )\n",
        "    ]\n",
        ")"
      ],
      "metadata": {
        "id": "cCpLAPk4RDKm"
      },
      "execution_count": 79,
      "outputs": []
    },
    {
      "cell_type": "code",
      "source": [
        "xgb_param = {\n",
        "    'preprocessor__num__imputer__strategy': ['mean'],\n",
        "    # preprocessor__num__imputer__strategy points to preprocessor->num (a Pipeline)-> imputer -> strategy\n",
        "    'my_classifier__learning_rate': [.001, .01, 0.1],\n",
        "    'my_classifier__n_estimators': [40, 100, 500],  \n",
        "     # my_classifier__n_estimators points to my_classifier->n_estimators \n",
        "    'my_classifier__max_depth':[10, 20, 30]       \n",
        "}\n",
        "\n",
        "# cv=2 means two-fold cross-validation\n",
        "# n_jobs means the cucurrent number of jobs\n",
        "# (on colab since we only have two cpu cores, we set it to 2)\n",
        "grid_search_xgb = GridSearchCV(\n",
        "    xgb_pipline, xgb_param, cv=5, verbose=1, n_jobs=2, \n",
        "    scoring='roc_auc')\n",
        "\n",
        "grid_search_xgb.fit(df, y)\n",
        "\n",
        "print('best score {}'.format(grid_search_xgb.best_score_))\n",
        "print('best score {}'.format(grid_search_xgb.best_params_))"
      ],
      "metadata": {
        "colab": {
          "base_uri": "https://localhost:8080/"
        },
        "id": "Tf90JuSERDUH",
        "outputId": "07aead51-5797-48e9-8640-351a6fb71326"
      },
      "execution_count": 80,
      "outputs": [
        {
          "output_type": "stream",
          "name": "stdout",
          "text": [
            "Fitting 5 folds for each of 27 candidates, totalling 135 fits\n",
            "best score 0.8810633633508843\n",
            "best score {'my_classifier__learning_rate': 0.1, 'my_classifier__max_depth': 30, 'my_classifier__n_estimators': 500, 'preprocessor__num__imputer__strategy': 'mean'}\n"
          ]
        }
      ]
    },
    {
      "cell_type": "code",
      "source": [
        "print('best score {}'.format(grid_search_xgb.best_score_))\n",
        "print('best score {}'.format(grid_search_xgb.best_params_))"
      ],
      "metadata": {
        "colab": {
          "base_uri": "https://localhost:8080/"
        },
        "id": "gsHHm4k-2VgO",
        "outputId": "c49b6eb4-41da-42aa-d443-86191869e0f9"
      },
      "execution_count": 81,
      "outputs": [
        {
          "output_type": "stream",
          "name": "stdout",
          "text": [
            "best score 0.8810633633508843\n",
            "best score {'my_classifier__learning_rate': 0.1, 'my_classifier__max_depth': 30, 'my_classifier__n_estimators': 500, 'preprocessor__num__imputer__strategy': 'mean'}\n"
          ]
        }
      ]
    },
    {
      "cell_type": "code",
      "source": [
        ""
      ],
      "metadata": {
        "id": "YErnXMtvRDWZ"
      },
      "execution_count": 81,
      "outputs": []
    },
    {
      "cell_type": "markdown",
      "source": [
        "#### Trial 4"
      ],
      "metadata": {
        "id": "qL5ZmZ-c0RsV"
      }
    },
    {
      "cell_type": "markdown",
      "source": [
        "using random search, it is faster than grid as it didn't take that much time to run the model and fit.\n",
        "\n",
        " it is good in the production level because you don't always want the best parameters but the business may need a faster algorithms that perform well enough"
      ],
      "metadata": {
        "id": "RXOXDTWq0UhJ"
      }
    },
    {
      "cell_type": "code",
      "source": [
        "from sklearn.model_selection import train_test_split, RandomizedSearchCV\n",
        "from sklearn.model_selection import PredefinedSplit\n",
        "\n",
        "Random_search = RandomizedSearchCV(\n",
        "    full_pipline, param_grid, cv=5, verbose=1, n_jobs=2, \n",
        "    # number of random trials\n",
        "    n_iter=10,\n",
        "    scoring='roc_auc')\n",
        "\n",
        "Random_search.fit(df, y)\n",
        "\n",
        "print('best score {}'.format(Random_search.best_score_))\n",
        "print('best score {}'.format(Random_search.best_params_))"
      ],
      "metadata": {
        "colab": {
          "base_uri": "https://localhost:8080/"
        },
        "id": "zPko5H0323Bo",
        "outputId": "155fa379-aeb0-407e-b92c-37c9054eff3f"
      },
      "execution_count": 82,
      "outputs": [
        {
          "output_type": "stream",
          "name": "stdout",
          "text": [
            "Fitting 5 folds for each of 9 candidates, totalling 45 fits\n"
          ]
        },
        {
          "output_type": "stream",
          "name": "stderr",
          "text": [
            "/usr/local/lib/python3.7/dist-packages/sklearn/model_selection/_search.py:296: UserWarning: The total space of parameters 9 is smaller than n_iter=10. Running 9 iterations. For exhaustive searches, use GridSearchCV.\n",
            "  UserWarning,\n"
          ]
        },
        {
          "output_type": "stream",
          "name": "stdout",
          "text": [
            "best score 0.8551723667238\n",
            "best score {'preprocessor__num__imputer__strategy': 'mean', 'my_classifier__n_estimators': 40, 'my_classifier__max_depth': 10}\n"
          ]
        }
      ]
    },
    {
      "cell_type": "code",
      "source": [
        ""
      ],
      "metadata": {
        "id": "JQZzJCWS23FN"
      },
      "execution_count": 82,
      "outputs": []
    },
    {
      "cell_type": "markdown",
      "source": [
        "#### Trial 5"
      ],
      "metadata": {
        "id": "TVTZQFux4zqB"
      }
    },
    {
      "cell_type": "markdown",
      "source": [
        "random search with xgboost classifier"
      ],
      "metadata": {
        "id": "PefshCfVuV6N"
      }
    },
    {
      "cell_type": "code",
      "source": [
        "Random_search = RandomizedSearchCV(\n",
        "    xgb_pipline, xgb_param, cv=5, verbose=1, n_jobs=2, \n",
        "    # number of random trials\n",
        "    n_iter=10,\n",
        "    scoring='roc_auc')\n",
        "\n",
        "Random_search.fit(df, y)\n",
        "\n",
        "print('best score {}'.format(Random_search.best_score_))\n",
        "print('best score {}'.format(Random_search.best_params_))"
      ],
      "metadata": {
        "colab": {
          "base_uri": "https://localhost:8080/"
        },
        "id": "439Sda9N23OH",
        "outputId": "1529e756-ff49-4706-d018-8200f3fcd376"
      },
      "execution_count": 83,
      "outputs": [
        {
          "output_type": "stream",
          "name": "stdout",
          "text": [
            "Fitting 5 folds for each of 10 candidates, totalling 50 fits\n",
            "best score 0.8758974813031234\n",
            "best score {'preprocessor__num__imputer__strategy': 'mean', 'my_classifier__n_estimators': 500, 'my_classifier__max_depth': 10, 'my_classifier__learning_rate': 0.01}\n"
          ]
        }
      ]
    },
    {
      "cell_type": "code",
      "source": [
        ""
      ],
      "metadata": {
        "id": "cJpOlc3vn_qg"
      },
      "execution_count": 83,
      "outputs": []
    },
    {
      "cell_type": "code",
      "source": [
        ""
      ],
      "metadata": {
        "id": "DE8a4ave9QVT"
      },
      "execution_count": 83,
      "outputs": []
    },
    {
      "cell_type": "markdown",
      "source": [
        "#### Trial 6"
      ],
      "metadata": {
        "id": "Obk_K96g9Rrp"
      }
    },
    {
      "cell_type": "markdown",
      "source": [
        "We can interpret the hyperparameter search problem as a non-differentiable optimization problem,\n",
        "\n",
        "and use bayesian learning to predict what is the next hyperparamter values we should try given the current trials"
      ],
      "metadata": {
        "id": "10Sp7H6k9aog"
      }
    },
    {
      "cell_type": "code",
      "source": [
        "!pip install scikit-optimize"
      ],
      "metadata": {
        "colab": {
          "base_uri": "https://localhost:8080/"
        },
        "id": "quVX2lLA-IT0",
        "outputId": "1c461622-1a5c-4a7b-86bc-5eea105757c7"
      },
      "execution_count": 84,
      "outputs": [
        {
          "output_type": "stream",
          "name": "stdout",
          "text": [
            "Collecting scikit-optimize\n",
            "  Downloading scikit_optimize-0.9.0-py2.py3-none-any.whl (100 kB)\n",
            "\u001b[?25l\r\u001b[K     |███▎                            | 10 kB 18.7 MB/s eta 0:00:01\r\u001b[K     |██████▌                         | 20 kB 9.5 MB/s eta 0:00:01\r\u001b[K     |█████████▉                      | 30 kB 7.8 MB/s eta 0:00:01\r\u001b[K     |█████████████                   | 40 kB 3.7 MB/s eta 0:00:01\r\u001b[K     |████████████████▍               | 51 kB 3.7 MB/s eta 0:00:01\r\u001b[K     |███████████████████▋            | 61 kB 4.3 MB/s eta 0:00:01\r\u001b[K     |██████████████████████▉         | 71 kB 4.6 MB/s eta 0:00:01\r\u001b[K     |██████████████████████████▏     | 81 kB 3.5 MB/s eta 0:00:01\r\u001b[K     |█████████████████████████████▍  | 92 kB 3.9 MB/s eta 0:00:01\r\u001b[K     |████████████████████████████████| 100 kB 3.0 MB/s \n",
            "\u001b[?25hRequirement already satisfied: joblib>=0.11 in /usr/local/lib/python3.7/dist-packages (from scikit-optimize) (1.1.0)\n",
            "Requirement already satisfied: scipy>=0.19.1 in /usr/local/lib/python3.7/dist-packages (from scikit-optimize) (1.4.1)\n",
            "Requirement already satisfied: scikit-learn>=0.20.0 in /usr/local/lib/python3.7/dist-packages (from scikit-optimize) (1.0.2)\n",
            "Requirement already satisfied: numpy>=1.13.3 in /usr/local/lib/python3.7/dist-packages (from scikit-optimize) (1.21.5)\n",
            "Collecting pyaml>=16.9\n",
            "  Downloading pyaml-21.10.1-py2.py3-none-any.whl (24 kB)\n",
            "Requirement already satisfied: PyYAML in /usr/local/lib/python3.7/dist-packages (from pyaml>=16.9->scikit-optimize) (3.13)\n",
            "Requirement already satisfied: threadpoolctl>=2.0.0 in /usr/local/lib/python3.7/dist-packages (from scikit-learn>=0.20.0->scikit-optimize) (3.1.0)\n",
            "Installing collected packages: pyaml, scikit-optimize\n",
            "Successfully installed pyaml-21.10.1 scikit-optimize-0.9.0\n"
          ]
        }
      ]
    },
    {
      "cell_type": "markdown",
      "source": [
        "[auto_tune](https://colab.research.google.com/drive/1jGn01X6OiF8JKfq_wArn74QVxyGQwnOt#scrollTo=y-JZz-bTi2jV)"
      ],
      "metadata": {
        "id": "nrWDEZUP-YLc"
      }
    },
    {
      "cell_type": "code",
      "source": [
        "from skopt import BayesSearchCV\n",
        "from skopt.space import Real, Categorical, Integer\n",
        "from sklearn.svm import SVC\n",
        "\n",
        "\n",
        "SVC_pipline = Pipeline(\n",
        "    steps=[\n",
        "        ('preprocessor', preprocessor),\n",
        "        ('my_svc', SVC(class_weight='balanced'))\n",
        "    ]\n",
        ")\n",
        "# SVC has a class_weight attribute for unbalanced data\n",
        "\n",
        "\n",
        "# define ranges for bayes search\n",
        "bayes_search = BayesSearchCV(\n",
        "    SVC_pipline,\n",
        "    {\n",
        "        'my_svc__C': Real(1e-6, 1e+6, prior='log-uniform'),\n",
        "        'my_svc__gamma': Real(1e-6, 1e+1, prior='log-uniform'),\n",
        "        'my_svc__degree': Integer(1,8),\n",
        "        'my_svc__kernel': Categorical(['linear', 'poly', 'rbf']),\n",
        "    },\n",
        "    # number of trials \n",
        "    n_iter=2,\n",
        "    random_state=0,\n",
        "    verbose=1,\n",
        "    # we still use \n",
        "    cv=2,\n",
        ")\n",
        "\n",
        "bayes_search.fit(df, y)\n",
        "\n",
        "print('best score {}'.format(bayes_search.best_score_))\n",
        "print('best score {}'.format(bayes_search.best_params_))\n"
      ],
      "metadata": {
        "colab": {
          "base_uri": "https://localhost:8080/"
        },
        "id": "RrIlo6XF9Qdt",
        "outputId": "92478aae-f054-4e44-d047-67cc7bddcb5f"
      },
      "execution_count": 85,
      "outputs": [
        {
          "output_type": "stream",
          "name": "stdout",
          "text": [
            "Fitting 2 folds for each of 1 candidates, totalling 2 fits\n",
            "Fitting 2 folds for each of 1 candidates, totalling 2 fits\n",
            "best score 0.8304279837370991\n",
            "best score OrderedDict([('my_svc__C', 0.0012602593949011189), ('my_svc__degree', 8), ('my_svc__gamma', 2.285959941576884), ('my_svc__kernel', 'poly')])\n"
          ]
        }
      ]
    },
    {
      "cell_type": "code",
      "source": [
        ""
      ],
      "metadata": {
        "id": "s5Cie5gO-pfg"
      },
      "execution_count": 85,
      "outputs": []
    },
    {
      "cell_type": "markdown",
      "source": [
        "#### Trial 7"
      ],
      "metadata": {
        "id": "GyMYfR2z-olG"
      }
    },
    {
      "cell_type": "code",
      "source": [
        "from skopt import BayesSearchCV\n",
        "\n",
        "# define ranges for bayes search\n",
        "bayes_search_xg = BayesSearchCV(xgb_pipline, xgb_param,\n",
        "    # number of trials \n",
        "    n_iter=10,\n",
        "    random_state=0,\n",
        "    verbose=1, n_jobs=2,\n",
        "    # we still use \n",
        "    cv=2,\n",
        ")\n",
        "\n",
        "bayes_search_xg.fit(df, y)\n",
        "\n",
        "print('best score {}'.format(bayes_search_xg.best_score_))\n",
        "print('best score {}'.format(bayes_search_xg.best_params_))\n"
      ],
      "metadata": {
        "colab": {
          "base_uri": "https://localhost:8080/"
        },
        "id": "0sfEArnm9Qjw",
        "outputId": "03d1b40b-ebe9-4349-c6a1-b7fb659118ed"
      },
      "execution_count": 87,
      "outputs": [
        {
          "output_type": "stream",
          "name": "stdout",
          "text": [
            "Fitting 2 folds for each of 1 candidates, totalling 2 fits\n",
            "Fitting 2 folds for each of 1 candidates, totalling 2 fits\n",
            "Fitting 2 folds for each of 1 candidates, totalling 2 fits\n",
            "Fitting 2 folds for each of 1 candidates, totalling 2 fits\n",
            "Fitting 2 folds for each of 1 candidates, totalling 2 fits\n",
            "Fitting 2 folds for each of 1 candidates, totalling 2 fits\n",
            "Fitting 2 folds for each of 1 candidates, totalling 2 fits\n",
            "Fitting 2 folds for each of 1 candidates, totalling 2 fits\n",
            "Fitting 2 folds for each of 1 candidates, totalling 2 fits\n",
            "Fitting 2 folds for each of 1 candidates, totalling 2 fits\n",
            "best score 0.8646134124253786\n",
            "best score OrderedDict([('my_classifier__learning_rate', 0.1), ('my_classifier__max_depth', 30), ('my_classifier__n_estimators', 100), ('preprocessor__num__imputer__strategy', 'mean')])\n"
          ]
        }
      ]
    },
    {
      "cell_type": "code",
      "source": [
        ""
      ],
      "metadata": {
        "id": "yrGOZCE_9Qo2"
      },
      "execution_count": null,
      "outputs": []
    },
    {
      "cell_type": "code",
      "source": [
        ""
      ],
      "metadata": {
        "id": "jwKJPqCvR_nE"
      },
      "execution_count": null,
      "outputs": []
    },
    {
      "cell_type": "markdown",
      "source": [
        "###how you reach the final design?"
      ],
      "metadata": {
        "id": "agjDC-tsEJj9"
      }
    },
    {
      "cell_type": "markdown",
      "source": [
        "I had started exploring the training data then preprocessing by dropping or changing columns data type.\n",
        "\n",
        " building a Pipeline that imput missing data and then standardize data then\n",
        " \n",
        "fit it to the desired model after building\n",
        " the model try to tune it with different parameters"
      ],
      "metadata": {
        "id": "3i_DSCnhEQNX"
      }
    },
    {
      "cell_type": "code",
      "source": [
        ""
      ],
      "metadata": {
        "id": "2XNNvvfFR_p7"
      },
      "execution_count": null,
      "outputs": []
    },
    {
      "cell_type": "code",
      "source": [
        ""
      ],
      "metadata": {
        "id": "RGPuC2v9R_tF"
      },
      "execution_count": null,
      "outputs": []
    },
    {
      "cell_type": "markdown",
      "source": [
        "##Q1 Why a simple linear regression model (without any activation function) is not good for classification task, compared to Perceptron/Logistic regression?"
      ],
      "metadata": {
        "id": "-nZmxW_IR-1M"
      }
    },
    {
      "cell_type": "markdown",
      "source": [
        "Linear Regression deals with continuous values whereas classification problems mandate discrete values "
      ],
      "metadata": {
        "id": "dkCnfcgySEqi"
      }
    },
    {
      "cell_type": "markdown",
      "source": [
        "##Q2  What's a decision tree and how it is different to a logistic regression model?\n",
        "\n"
      ],
      "metadata": {
        "id": "yDfUHPMESb1a"
      }
    },
    {
      "cell_type": "markdown",
      "source": [
        "Decision Trees bisect the space into smaller and smaller regions, whereas Logistic Regression fits a single line to divide the space exactly into two"
      ],
      "metadata": {
        "id": "PMoJjvJNSyL2"
      }
    },
    {
      "cell_type": "markdown",
      "source": [
        "##Q3  What's the difference between grid search and random search?"
      ],
      "metadata": {
        "id": "4N64i8rgTKe2"
      }
    },
    {
      "cell_type": "markdown",
      "source": [
        "Grid Search can be thought of as an exhaustive search for selecting a model. In Grid Search, the data scientist sets up a grid of hyperparameter values and for each combination, trains a model and scores on the testing data. In this approach, every combination of hyperparameter values is tried which can be very inefficient\n",
        "\n",
        "Random Search sets up a grid of hyperparameter values and selects random combinations to train the model and score"
      ],
      "metadata": {
        "id": "zboVWg15TM14"
      }
    },
    {
      "cell_type": "markdown",
      "source": [
        "##Q4  What's the difference between bayesian search and random search?"
      ],
      "metadata": {
        "id": "QCLmdprYTM_k"
      }
    },
    {
      "cell_type": "markdown",
      "source": [
        "bayesian search  takes less training steps in order to achieve a comparable result as compared to random search with a sufficiently high number of experiments"
      ],
      "metadata": {
        "id": "drc42nkfUChP"
      }
    }
  ],
  "metadata": {
    "colab": {
      "collapsed_sections": [],
      "name": "Speed Dating Match Prediction.ipynb",
      "provenance": []
    },
    "kernelspec": {
      "display_name": "Python 3",
      "name": "python3"
    }
  },
  "nbformat": 4,
  "nbformat_minor": 0
}